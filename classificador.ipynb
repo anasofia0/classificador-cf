{
 "cells": [
  {
   "cell_type": "code",
   "execution_count": 1,
   "id": "f50f216b-b957-4049-9bf5-804f87af032e",
   "metadata": {},
   "outputs": [],
   "source": [
    "import pandas as pd"
   ]
  },
  {
   "cell_type": "code",
   "execution_count": 21,
   "id": "a4afaec5-62e0-4ba7-b89c-0356ace2d2d7",
   "metadata": {},
   "outputs": [
    {
     "data": {
      "text/html": [
       "<div>\n",
       "<style scoped>\n",
       "    .dataframe tbody tr th:only-of-type {\n",
       "        vertical-align: middle;\n",
       "    }\n",
       "\n",
       "    .dataframe tbody tr th {\n",
       "        vertical-align: top;\n",
       "    }\n",
       "\n",
       "    .dataframe thead th {\n",
       "        text-align: right;\n",
       "    }\n",
       "</style>\n",
       "<table border=\"1\" class=\"dataframe\">\n",
       "  <thead>\n",
       "    <tr style=\"text-align: right;\">\n",
       "      <th></th>\n",
       "      <th>contest</th>\n",
       "      <th>problem_name</th>\n",
       "      <th>problem_statement</th>\n",
       "      <th>problem_tags</th>\n",
       "    </tr>\n",
       "  </thead>\n",
       "  <tbody>\n",
       "    <tr>\n",
       "      <th>0</th>\n",
       "      <td>325</td>\n",
       "      <td>A</td>\n",
       "      <td>You are given n rectangles. The corners of rec...</td>\n",
       "      <td>implementation,*1500</td>\n",
       "    </tr>\n",
       "    <tr>\n",
       "      <th>1</th>\n",
       "      <td>325</td>\n",
       "      <td>B</td>\n",
       "      <td>Daniel is organizing a football tournament. He...</td>\n",
       "      <td>binarysearch,math,*1800</td>\n",
       "    </tr>\n",
       "    <tr>\n",
       "      <th>2</th>\n",
       "      <td>325</td>\n",
       "      <td>C</td>\n",
       "      <td>Piegirl has found a monster and a book about m...</td>\n",
       "      <td>dfsandsimilar,graphs,shortestpaths,*2600</td>\n",
       "    </tr>\n",
       "    <tr>\n",
       "      <th>3</th>\n",
       "      <td>325</td>\n",
       "      <td>D</td>\n",
       "      <td>In a far away land, there exists a planet shap...</td>\n",
       "      <td>dsu,*2900</td>\n",
       "    </tr>\n",
       "    <tr>\n",
       "      <th>4</th>\n",
       "      <td>325</td>\n",
       "      <td>E</td>\n",
       "      <td>Piegirl found the red button. You have one las...</td>\n",
       "      <td>combinatorics,dfsandsimilar,dsu,graphs,greedy,...</td>\n",
       "    </tr>\n",
       "  </tbody>\n",
       "</table>\n",
       "</div>"
      ],
      "text/plain": [
       "   contest problem_name                                  problem_statement  \\\n",
       "0      325            A  You are given n rectangles. The corners of rec...   \n",
       "1      325            B  Daniel is organizing a football tournament. He...   \n",
       "2      325            C  Piegirl has found a monster and a book about m...   \n",
       "3      325            D  In a far away land, there exists a planet shap...   \n",
       "4      325            E  Piegirl found the red button. You have one las...   \n",
       "\n",
       "                                        problem_tags  \n",
       "0                               implementation,*1500  \n",
       "1                            binarysearch,math,*1800  \n",
       "2           dfsandsimilar,graphs,shortestpaths,*2600  \n",
       "3                                          dsu,*2900  \n",
       "4  combinatorics,dfsandsimilar,dsu,graphs,greedy,...  "
      ]
     },
     "execution_count": 21,
     "metadata": {},
     "output_type": "execute_result"
    }
   ],
   "source": [
    "data = pd.read_csv('data.csv')\n",
    "data.head()"
   ]
  },
  {
   "cell_type": "code",
   "execution_count": 22,
   "id": "ae5369c7-a67c-4b55-8e5f-54e8466e5267",
   "metadata": {},
   "outputs": [
    {
     "name": "stdout",
     "output_type": "stream",
     "text": [
      "quantidade de problemas: 8343\n",
      "quantidade de contests: 1424\n",
      "problemas repetidos: 1524\n"
     ]
    }
   ],
   "source": [
    "print(f'quantidade de problemas: {data.shape[0]}')\n",
    "print(f'quantidade de contests: {len(data.contest.unique())}')\n",
    "print(f'problemas repetidos: {data.shape[0] - len(data.problem_statement.unique())}')\n",
    "\n",
    "data.drop_duplicates(subset='problem_statement', inplace=True)"
   ]
  },
  {
   "cell_type": "code",
   "execution_count": null,
   "id": "fab411c8-887a-448f-9d26-bdd530502904",
   "metadata": {},
   "outputs": [],
   "source": []
  }
 ],
 "metadata": {
  "kernelspec": {
   "display_name": "env",
   "language": "python",
   "name": "env"
  },
  "language_info": {
   "codemirror_mode": {
    "name": "ipython",
    "version": 3
   },
   "file_extension": ".py",
   "mimetype": "text/x-python",
   "name": "python",
   "nbconvert_exporter": "python",
   "pygments_lexer": "ipython3",
   "version": "3.8.10"
  }
 },
 "nbformat": 4,
 "nbformat_minor": 5
}
