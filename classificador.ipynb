{
 "cells": [
  {
   "cell_type": "code",
   "execution_count": 1,
   "id": "f50f216b-b957-4049-9bf5-804f87af032e",
   "metadata": {},
   "outputs": [
    {
     "name": "stderr",
     "output_type": "stream",
     "text": [
      "[nltk_data] Downloading package wordnet to /home/victor/nltk_data...\n",
      "[nltk_data]   Package wordnet is already up-to-date!\n",
      "[nltk_data] Downloading package stopwords to /home/victor/nltk_data...\n",
      "[nltk_data]   Package stopwords is already up-to-date!\n"
     ]
    },
    {
     "data": {
      "text/plain": [
       "True"
      ]
     },
     "execution_count": 1,
     "metadata": {},
     "output_type": "execute_result"
    }
   ],
   "source": [
    "import pandas as pd\n",
    "import nltk\n",
    "from nltk.corpus import stopwords\n",
    "from nltk.stem import WordNetLemmatizer\n",
    "import re\n",
    "from sklearn.feature_extraction.text import CountVectorizer\n",
    "from sklearn.decomposition import LatentDirichletAllocation\n",
    "import pyLDAvis\n",
    "import pyLDAvis.sklearn\n",
    "from gensim.models.coherencemodel import CoherenceModel\n",
    "from gensim.corpora import Dictionary\n",
    "from gensim.models.ldamodel import LdaModel\n",
    "from gensim.matutils import Sparse2Corpus\n",
    "from matplotlib import pyplot as plt\n",
    "import time\n",
    "\n",
    "pyLDAvis.enable_notebook()\n",
    "nltk.download('wordnet')\n",
    "nltk.download('stopwords')\n",
    "#sklearn.decomposition.LatentDirichletAllocation"
   ]
  },
  {
   "cell_type": "code",
   "execution_count": 2,
   "id": "a4afaec5-62e0-4ba7-b89c-0356ace2d2d7",
   "metadata": {},
   "outputs": [
    {
     "data": {
      "text/html": [
       "<div>\n",
       "<style scoped>\n",
       "    .dataframe tbody tr th:only-of-type {\n",
       "        vertical-align: middle;\n",
       "    }\n",
       "\n",
       "    .dataframe tbody tr th {\n",
       "        vertical-align: top;\n",
       "    }\n",
       "\n",
       "    .dataframe thead th {\n",
       "        text-align: right;\n",
       "    }\n",
       "</style>\n",
       "<table border=\"1\" class=\"dataframe\">\n",
       "  <thead>\n",
       "    <tr style=\"text-align: right;\">\n",
       "      <th></th>\n",
       "      <th>contest</th>\n",
       "      <th>problem_name</th>\n",
       "      <th>problem_statement</th>\n",
       "      <th>problem_tags</th>\n",
       "    </tr>\n",
       "  </thead>\n",
       "  <tbody>\n",
       "    <tr>\n",
       "      <th>0</th>\n",
       "      <td>325</td>\n",
       "      <td>A</td>\n",
       "      <td>You are given n rectangles. The corners of rec...</td>\n",
       "      <td>implementation,*1500</td>\n",
       "    </tr>\n",
       "    <tr>\n",
       "      <th>1</th>\n",
       "      <td>325</td>\n",
       "      <td>B</td>\n",
       "      <td>Daniel is organizing a football tournament. He...</td>\n",
       "      <td>binarysearch,math,*1800</td>\n",
       "    </tr>\n",
       "    <tr>\n",
       "      <th>2</th>\n",
       "      <td>325</td>\n",
       "      <td>C</td>\n",
       "      <td>Piegirl has found a monster and a book about m...</td>\n",
       "      <td>dfsandsimilar,graphs,shortestpaths,*2600</td>\n",
       "    </tr>\n",
       "    <tr>\n",
       "      <th>3</th>\n",
       "      <td>325</td>\n",
       "      <td>D</td>\n",
       "      <td>In a far away land, there exists a planet shap...</td>\n",
       "      <td>dsu,*2900</td>\n",
       "    </tr>\n",
       "    <tr>\n",
       "      <th>4</th>\n",
       "      <td>325</td>\n",
       "      <td>E</td>\n",
       "      <td>Piegirl found the red button. You have one las...</td>\n",
       "      <td>combinatorics,dfsandsimilar,dsu,graphs,greedy,...</td>\n",
       "    </tr>\n",
       "  </tbody>\n",
       "</table>\n",
       "</div>"
      ],
      "text/plain": [
       "   contest problem_name                                  problem_statement  \\\n",
       "0      325            A  You are given n rectangles. The corners of rec...   \n",
       "1      325            B  Daniel is organizing a football tournament. He...   \n",
       "2      325            C  Piegirl has found a monster and a book about m...   \n",
       "3      325            D  In a far away land, there exists a planet shap...   \n",
       "4      325            E  Piegirl found the red button. You have one las...   \n",
       "\n",
       "                                        problem_tags  \n",
       "0                               implementation,*1500  \n",
       "1                            binarysearch,math,*1800  \n",
       "2           dfsandsimilar,graphs,shortestpaths,*2600  \n",
       "3                                          dsu,*2900  \n",
       "4  combinatorics,dfsandsimilar,dsu,graphs,greedy,...  "
      ]
     },
     "execution_count": 2,
     "metadata": {},
     "output_type": "execute_result"
    }
   ],
   "source": [
    "data = pd.read_csv('data.csv')\n",
    "data.fillna('', inplace=True)\n",
    "data.head()"
   ]
  },
  {
   "cell_type": "code",
   "execution_count": 3,
   "id": "ae5369c7-a67c-4b55-8e5f-54e8466e5267",
   "metadata": {},
   "outputs": [
    {
     "name": "stdout",
     "output_type": "stream",
     "text": [
      "quantidade de problemas: 8343\n",
      "quantidade de contests: 1424\n",
      "problemas repetidos: 1524\n"
     ]
    }
   ],
   "source": [
    "print(f'quantidade de problemas: {data.shape[0]}')\n",
    "print(f'quantidade de contests: {len(data.contest.unique())}')\n",
    "print(f'problemas repetidos: {data.shape[0] - len(data.problem_statement.unique())}')\n",
    "\n",
    "data.drop_duplicates(subset='problem_statement', inplace=True)"
   ]
  },
  {
   "cell_type": "markdown",
   "id": "741271ed-5c42-4027-85f1-2fae864fcd0f",
   "metadata": {},
   "source": [
    "## Pre-processamento"
   ]
  },
  {
   "cell_type": "code",
   "execution_count": 4,
   "id": "a146feee-1b9c-4316-a09f-6312c8760406",
   "metadata": {},
   "outputs": [
    {
     "name": "stdout",
     "output_type": "stream",
     "text": [
      "At first, let's define function $$$f(x)$$$ as follows: $$$$$$ \\begin{matrix} f(x) & = & \\left\\{ \\begin{matrix} \\frac{x}{2} & \\mbox{if } x \\text{ is even} \\\\ x - 1 & \\mbox{otherwise } \\end{matrix} \\right. \\end{matrix} $$$$$$\n",
      "\n",
      "We can see that if we choose some value $$$v$$$ and will apply function $$$f$$$ to it, then apply $$$f$$$ to $$$f(v)$$$, and so on, we'll eventually get $$$1$$$. Let's write down all values we get in this process in a list and denote this list as $$$path(v)$$$. For example, $$$path(1) = [1]$$$, $$$path(15) = [15, 14, 7, 6, 3, 2, 1]$$$, $$$path(32) = [32, 16, 8, 4, 2, 1]$$$.\n",
      "\n",
      "Let's write all lists $$$path(x)$$$ for every $$$x$$$ from $$$1$$$ to $$$n$$$. The question is next: what is the maximum value $$$y$$$ such that $$$y$$$ is contained in at least $$$k$$$ different lists $$$path(x)$$$?\n",
      "\n",
      "Formally speaking, you need to find maximum $$$y$$$ such that $$$\\left| \\{ x ~|~ 1 \\le x \\le n, y \\in path(x) \\} \\right| \\ge k$$$.\n",
      "\n",
      "The first line contains two integers $$$n$$$ and $$$k$$$ ($$$1 \\le k \\le n \\le 10^{18}$$$).\n",
      "\n",
      "Print the only integer — the maximum value that is contained in at least $$$k$$$ paths.\n",
      "\n",
      "In the first example, the answer is $$$5$$$, since $$$5$$$ occurs in $$$path(5)$$$, $$$path(10)$$$ and $$$path(11)$$$.\n",
      "\n",
      "In the second example, the answer is $$$4$$$, since $$$4$$$ occurs in $$$path(4)$$$, $$$path(5)$$$, $$$path(8)$$$, $$$path(9)$$$, $$$path(10)$$$ and $$$path(11)$$$.\n",
      "\n",
      "In the third example $$$n = k$$$, so the answer is $$$1$$$, since $$$1$$$ is the only number occuring in all paths for integers from $$$1$$$ to $$$20$$$.\n",
      "------------\n",
      "first let define function follows f x & = & \\ & x \\\\ x - 1 & see choose value apply function apply eventually get Let write value get process list denote list example Let write list every question next maximum value contained least different list Formally speaking need find maximum first contains two integer integer — maximum value contained least path first example answer since occurs second example answer since occurs third example answer since number occuring path integer\n"
     ]
    }
   ],
   "source": [
    "sw = stopwords.words('english')\n",
    "sw += ['input', 'output', 'th', 'print', 'test', 'case', 'line']\n",
    "lemma = WordNetLemmatizer()\n",
    "text = data.problem_statement\n",
    "\n",
    "# Problem_statement\n",
    "print(text[8341])\n",
    "print('------------')\n",
    "text = text.apply(lambda x: re.sub(r'\\${1,3}(.*?)\\${1,3}', ' ',x))\n",
    "text = text.apply(lambda x: re.sub(r'(?:\\\\)[a-zA-Z]+', ' ',x))\n",
    "text = text.apply(lambda x: re.sub(r'\\{(.*?)\\}', ' ',x))\n",
    "text = text.apply(lambda x: re.sub(r\"[\\,|\\.|\\(|\\)|\\!|\\?|\\:|\\']\",' ',x)) # removendo caracteres especiais\n",
    "text = text.apply(lambda x: [i for i in x.split() if i.lower() not in sw]) # removendo stop-words\n",
    "text = text.apply(lambda x: ' '.join([lemma.lemmatize(i) for i in x])) # lemmatizando todo\n",
    "\n",
    "# Topics\n",
    "topics = data.problem_tags\n",
    "topics = topics.apply(lambda x: re.sub('[*][0-9]+','',x)) # remove os ratings *800 etc\n",
    "topics = topics.apply(lambda x: [i for i in x.split(',') if i != '']) # tira strings vazias\n",
    "\n",
    "print(text[8341])\n"
   ]
  },
  {
   "cell_type": "code",
   "execution_count": 5,
   "id": "4fdf5159-c4ef-4d94-8790-e0b94aa29119",
   "metadata": {},
   "outputs": [
    {
     "data": {
      "text/plain": [
       "0       given n rectangle corner rectangle integer coo...\n",
       "1       Daniel organizing football tournament come fol...\n",
       "2       Piegirl found monster book monster pie reading...\n",
       "3       far away land exists planet shaped like cylind...\n",
       "4       Piegirl found red button one last chance chang...\n",
       "                              ...                        \n",
       "8338    block arranged row numbered left right startin...\n",
       "8339    map capital Berland viewed infinite coordinate...\n",
       "8340    play strategic video game yeah ran good proble...\n",
       "8341    first let define function follows f x & = & \\ ...\n",
       "8342    Recently lot student enrolled Berland State Un...\n",
       "Name: problem_statement, Length: 6819, dtype: object"
      ]
     },
     "execution_count": 5,
     "metadata": {},
     "output_type": "execute_result"
    }
   ],
   "source": [
    "text"
   ]
  },
  {
   "cell_type": "code",
   "execution_count": 6,
   "id": "80b21fa4",
   "metadata": {},
   "outputs": [
    {
     "data": {
      "text/plain": [
       "0                                        [implementation]\n",
       "1                                    [binarysearch, math]\n",
       "2                  [dfsandsimilar, graphs, shortestpaths]\n",
       "3                                                   [dsu]\n",
       "4       [combinatorics, dfsandsimilar, dsu, graphs, gr...\n",
       "                              ...                        \n",
       "8338                                       [greedy, math]\n",
       "8339       [bruteforce, geometry, greedy, implementation]\n",
       "8340    [datastructures, dp, greedy, implementation, s...\n",
       "8341              [binarysearch, combinatorics, dp, math]\n",
       "8342                                         [bruteforce]\n",
       "Name: problem_tags, Length: 6819, dtype: object"
      ]
     },
     "execution_count": 6,
     "metadata": {},
     "output_type": "execute_result"
    }
   ],
   "source": [
    "topics"
   ]
  },
  {
   "cell_type": "code",
   "execution_count": 7,
   "id": "83622137",
   "metadata": {},
   "outputs": [
    {
     "name": "stdout",
     "output_type": "stream",
     "text": [
      "('implementation', 1970)\n",
      "('math', 1733)\n",
      "('greedy', 1645)\n",
      "('dp', 1373)\n",
      "('datastructures', 1076)\n",
      "('bruteforce', 1020)\n",
      "('constructivealgorithms', 981)\n",
      "('graphs', 720)\n",
      "('sortings', 658)\n",
      "('binarysearch', 652)\n",
      "('dfsandsimilar', 590)\n",
      "('trees', 511)\n",
      "('strings', 484)\n",
      "('numbertheory', 453)\n",
      "('combinatorics', 390)\n",
      "('*specialproblem', 367)\n",
      "('twopointers', 310)\n",
      "('bitmasks', 300)\n",
      "('geometry', 291)\n",
      "('dsu', 210)\n",
      "('shortestpaths', 174)\n",
      "('divideandconquer', 167)\n",
      "('probabilities', 162)\n",
      "('hashing', 136)\n",
      "('games', 131)\n",
      "('interactive', 114)\n",
      "('flows', 99)\n",
      "('matrices', 87)\n",
      "('stringsuffixstructures', 64)\n",
      "('fft', 56)\n",
      "('graphmatchings', 54)\n",
      "('ternarysearch', 40)\n",
      "('meet-in-the-middle', 33)\n",
      "('expressionparsing', 32)\n",
      "('2-sat', 19)\n",
      "('chineseremaindertheorem', 10)\n",
      "('schedules', 5)\n"
     ]
    }
   ],
   "source": [
    "lista = topics.to_list()\n",
    "\n",
    "d = dict()\n",
    "for x in lista:\n",
    "    for y in x:\n",
    "        if y not in d:\n",
    "            d[y]= 1\n",
    "        else:\n",
    "            d[y]+=1\n",
    "\n",
    "x= sorted(d.items(), key=lambda item:item[1], reverse=True)\n",
    "\n",
    "for i in x:\n",
    "    print(i)\n",
    "\n"
   ]
  },
  {
   "cell_type": "markdown",
   "id": "3aabcb1c-9f2c-4c36-a119-ac71fff152b2",
   "metadata": {},
   "source": [
    "## Vetorizando"
   ]
  },
  {
   "cell_type": "code",
   "execution_count": 8,
   "id": "8f9d37d5-151d-4cdd-a333-a6ad69c8b10e",
   "metadata": {},
   "outputs": [],
   "source": [
    "max_df = 0.8\n",
    "min_df = 0.05\n",
    "vec = CountVectorizer(max_df=max_df, min_df=min_df, ngram_range=(1,3))"
   ]
  },
  {
   "cell_type": "code",
   "execution_count": 9,
   "id": "3485062c",
   "metadata": {},
   "outputs": [],
   "source": [
    "def vect2gensim(vectorizer, dtmatrix):\n",
    "    # transform sparse matrix into gensim corpus and dictionary\n",
    "    corpus_vect_gensim = Sparse2Corpus(dtmatrix, documents_columns=False)\n",
    "    dictionary = Dictionary.from_corpus(corpus_vect_gensim,\n",
    "            id2word=dict((id, word) for word, id in vectorizer.vocabulary_.items()))\n",
    "    return (corpus_vect_gensim, dictionary)\n",
    "\n"
   ]
  },
  {
   "cell_type": "code",
   "execution_count": 10,
   "id": "714a91f4",
   "metadata": {},
   "outputs": [],
   "source": [
    "X = vec.fit_transform(text)\n",
    "X.shape\n",
    "X = vect2gensim(vec, X)"
   ]
  },
  {
   "cell_type": "markdown",
   "id": "00ab8d4b-3e5a-49bc-a65b-2b22c00dc4e9",
   "metadata": {},
   "source": [
    "## Agrupando"
   ]
  },
  {
   "cell_type": "code",
   "execution_count": 11,
   "id": "5a0f6623",
   "metadata": {},
   "outputs": [],
   "source": [
    "# Pegando quantidade de topicos\n",
    "\n",
    "total_topics = set()\n",
    "topics = topics.apply(lambda x: [total_topics.add(i) for i in x])"
   ]
  },
  {
   "cell_type": "code",
   "execution_count": 12,
   "id": "7c54f422",
   "metadata": {},
   "outputs": [
    {
     "name": "stdout",
     "output_type": "stream",
     "text": [
      "Número de Tópicos: 37\n"
     ]
    },
    {
     "data": {
      "text/plain": [
       "{'*specialproblem',\n",
       " '2-sat',\n",
       " 'binarysearch',\n",
       " 'bitmasks',\n",
       " 'bruteforce',\n",
       " 'chineseremaindertheorem',\n",
       " 'combinatorics',\n",
       " 'constructivealgorithms',\n",
       " 'datastructures',\n",
       " 'dfsandsimilar',\n",
       " 'divideandconquer',\n",
       " 'dp',\n",
       " 'dsu',\n",
       " 'expressionparsing',\n",
       " 'fft',\n",
       " 'flows',\n",
       " 'games',\n",
       " 'geometry',\n",
       " 'graphmatchings',\n",
       " 'graphs',\n",
       " 'greedy',\n",
       " 'hashing',\n",
       " 'implementation',\n",
       " 'interactive',\n",
       " 'math',\n",
       " 'matrices',\n",
       " 'meet-in-the-middle',\n",
       " 'numbertheory',\n",
       " 'probabilities',\n",
       " 'schedules',\n",
       " 'shortestpaths',\n",
       " 'sortings',\n",
       " 'strings',\n",
       " 'stringsuffixstructures',\n",
       " 'ternarysearch',\n",
       " 'trees',\n",
       " 'twopointers'}"
      ]
     },
     "execution_count": 12,
     "metadata": {},
     "output_type": "execute_result"
    }
   ],
   "source": [
    "n_total_topics = len(total_topics)\n",
    "print(f'Número de Tópicos: {n_total_topics}')\n",
    "total_topics"
   ]
  },
  {
   "cell_type": "code",
   "execution_count": 13,
   "id": "213f6d04",
   "metadata": {},
   "outputs": [],
   "source": [
    "def run_lda(qtd_topics, iter):\n",
    "    n_components = qtd_topics\n",
    "    max_iter = iter\n",
    "\n",
    "    id2word = X[1]\n",
    "    corpus = X[0]\n",
    "\n",
    "    lda = LdaModel(corpus=corpus, num_topics=n_components, id2word=id2word, iterations=max_iter)\n",
    "\n",
    "    return lda"
   ]
  },
  {
   "cell_type": "code",
   "execution_count": 14,
   "id": "700a4cb3",
   "metadata": {},
   "outputs": [],
   "source": [
    "lda = run_lda(qtd_topics=n_total_topics, iter=100)"
   ]
  },
  {
   "cell_type": "code",
   "execution_count": 15,
   "id": "d8113b6f-d06b-4bdb-ac25-9aa619420c48",
   "metadata": {},
   "outputs": [],
   "source": [
    "# lda_matrix = lda.fit_transform(X)\n",
    "\n"
   ]
  },
  {
   "cell_type": "code",
   "execution_count": 16,
   "id": "971797f0-150e-4031-ab50-d6c596b3b7d9",
   "metadata": {},
   "outputs": [],
   "source": [
    "# top_word = lda.components_\n",
    "# terms = vec.get_feature_names_out()\n",
    "\n",
    "# for i, comp in enumerate(top_word):\n",
    "#     top_terms_key = zip(terms, comp)\n",
    "#     top_terms_key= sorted(top_terms_key, key = lambda t: t[1], reverse=True)[:10]\n",
    "#     top_terms_list= list(dict(top_terms_key).keys())\n",
    "#     print(\"Topic \"+str(i)+\": \",top_terms_list)"
   ]
  },
  {
   "cell_type": "markdown",
   "id": "44ec6dad-c600-420e-9f7e-f2036eeb93fc",
   "metadata": {},
   "source": [
    "## Validando"
   ]
  },
  {
   "cell_type": "code",
   "execution_count": 17,
   "id": "ffdecacb",
   "metadata": {},
   "outputs": [],
   "source": [
    "def get_coherence(lda):\n",
    "    corpus = X[0]\n",
    "    id2word = X[1]\n",
    "    new_model = CoherenceModel(model=lda, texts=text, corpus=corpus, dictionary=id2word, coherence=\"u_mass\")\n",
    "    return new_model.get_coherence()"
   ]
  },
  {
   "cell_type": "code",
   "execution_count": 18,
   "id": "01850e29-4b2f-4edf-9cd1-3118669d46c8",
   "metadata": {},
   "outputs": [
    {
     "name": "stdout",
     "output_type": "stream",
     "text": [
      "-1.262384836875163\n"
     ]
    }
   ],
   "source": [
    "\n",
    "\n",
    "print(get_coherence(lda))\n",
    "\n",
    "# todo -> entender metrica de coerencia\n",
    "#      -> usar dentro dos atributos o que ja foi calculado no CountVectorizer"
   ]
  },
  {
   "attachments": {},
   "cell_type": "markdown",
   "id": "e2fbf26f",
   "metadata": {},
   "source": [
    "# Analisando Hiperparâmetros"
   ]
  },
  {
   "attachments": {},
   "cell_type": "markdown",
   "id": "345cf6cc",
   "metadata": {},
   "source": [
    "## Teste 1"
   ]
  },
  {
   "cell_type": "code",
   "execution_count": 19,
   "id": "e46e8753",
   "metadata": {},
   "outputs": [],
   "source": [
    "list_coherence = []\n",
    "for i in range(1, 38):\n",
    "\n",
    "    lda = run_lda(qtd_topics = i, iter=100)\n",
    "    coherence = get_coherence(lda)\n",
    "\n",
    "    list_coherence.append(coherence)\n"
   ]
  },
  {
   "cell_type": "code",
   "execution_count": 20,
   "id": "7ee862bf",
   "metadata": {},
   "outputs": [
    {
     "data": {
      "image/png": "[encoded data removed]",
      "text/plain": [
       "<Figure size 640x480 with 1 Axes>"
      ]
     },
     "metadata": {},
     "output_type": "display_data"
    }
   ],
   "source": [
    "list_coherence\n",
    "\n",
    "plt.plot([i for i in range(1,38)], list_coherence)\n",
    "plt.xlabel('n_topics')\n",
    "plt.ylabel('coherence')\n",
    "plt.show()\n"
   ]
  },
  {
   "attachments": {},
   "cell_type": "markdown",
   "id": "f9d4e317",
   "metadata": {},
   "source": [
    "## Teste 2"
   ]
  },
  {
   "cell_type": "code",
   "execution_count": 21,
   "id": "66b22bf8",
   "metadata": {},
   "outputs": [
    {
     "name": "stdout",
     "output_type": "stream",
     "text": [
      "100\n",
      "200\n",
      "300\n",
      "400\n",
      "500\n",
      "600\n",
      "700\n",
      "800\n",
      "900\n"
     ]
    }
   ],
   "source": [
    "list_coherence2 = []\n",
    "list_times = []\n",
    "for i in range(100, 1000, 100):\n",
    "\n",
    "    print(i)\n",
    "    time_before = time.time()\n",
    "    lda = run_lda(qtd_topics=5, iter=i)\n",
    "    time_later = time.time()\n",
    "    time_total = time_later-time_before\n",
    "    coherence = get_coherence(lda)\n",
    "\n",
    "    list_times.append(time_total)\n",
    "    list_coherence2.append(coherence)"
   ]
  },
  {
   "cell_type": "code",
   "execution_count": 22,
   "id": "27a62cc0",
   "metadata": {},
   "outputs": [
    {
     "data": {
      "image/png": "[encoded data removed]",
      "text/plain": [
       "<Figure size 600x300 with 2 Axes>"
      ]
     },
     "metadata": {},
     "output_type": "display_data"
    }
   ],
   "source": [
    "fig, ax = plt.subplots(1, 2, figsize=(6,3), sharey=False)\n",
    "ax[0].plot([i for i in range(100, 1000, 100)], list_coherence2, label=\"coherence\")\n",
    "ax[1].plot([i for i in range(100, 1000, 100)], list_times, label=\"time\")\n",
    "\n",
    "ax[0].set_title(\"Coherence\")\n",
    "ax[1].set_title(\"Time\")\n",
    "# plt.ylim([-1, 1])\n",
    "plt.show()"
   ]
  },
  {
   "cell_type": "markdown",
   "id": "ce0b3410-b983-4193-9f3a-3f3771cbdf70",
   "metadata": {},
   "source": [
    "## Visualizando"
   ]
  },
  {
   "cell_type": "code",
   "execution_count": 24,
   "id": "18f5c0ed-2ecf-454c-a968-ab3915e54a10",
   "metadata": {},
   "outputs": [
    {
     "name": "stderr",
     "output_type": "stream",
     "text": [
      "/home/victor/anaconda3/envs/pibic/lib/python3.8/site-packages/pyLDAvis/_prepare.py:243: FutureWarning: In a future version of pandas all arguments of DataFrame.drop except for the argument 'labels' will be keyword-only.\n",
      "  default_term_info = default_term_info.sort_values(\n"
     ]
    },
    {
     "data": {
      "text/html": [
       "\n",
       "<link rel=\"stylesheet\" type=\"text/css\" href=\"https://cdn.jsdelivr.net/gh/bmabey/pyLDAvis@3.4.0/pyLDAvis/js/ldavis.v1.0.0.css\">\n",
       "\n",
       "\n",
       "<div id=\"ldavis_el1321140318253020544467394929\" style=\"background-color:white;\"></div>\n",
       "<script type=\"text/javascript\">\n",
       "\n",
       "var ldavis_el1321140318253020544467394929_data = {\"mdsDat\": {\"x\": [-0.060926671940881014, -0.02632266584428103, -0.027247551386038057, 0.06919552932844227, 0.045301359842757835], \"y\": [0.027256480131571895, -0.07805717212182735, 0.03417938923862978, -0.009026854345619423, 0.02564815709724501], \"topics\": [1, 2, 3, 4, 5], \"cluster\": [1, 1, 1, 1, 1], \"Freq\": [24.3325505914775, 24.230313321160775, 22.750294227960918, 17.24011240261387, 11.446729456786933]}, \"tinfo\": {\"Term\": [\"string\", \"array\", \"city\", \"cell\", \"sequence\", \"day\", \"vertex\", \"operation\", \"edge\", \"character\", \"query\", \"digit\", \"tree\", \"letter\", \"graph\", \"element\", \"point\", \"row\", \"game\", \"column\", \"length\", \"square\", \"move\", \"coordinate\", \"pair\", \"word\", \"connected\", \"lowercase\", \"position\", \"picture\", \"cell\", \"column\", \"row\", \"side\", \"square\", \"moment\", \"picture\", \"direction\", \"coordinate\", \"located\", \"left right\", \"right\", \"left\", \"place\", \"put\", \"show\", \"move\", \"start\", \"time\", \"point\", \"four\", \"initial\", \"go\", \"rule\", \"first contains three\", \"assume\", \"absolute\", \"numbered\", \"distance\", \"see\", \"size\", \"part\", \"order\", \"contains three\", \"one\", \"th\", \"second\", \"two\", \"line\", \"next\", \"sample\", \"answer\", \"example\", \"possible\", \"single\", \"get\", \"following\", \"given\", \"three\", \"value\", \"integer number\", \"array\", \"day\", \"element\", \"integer a1\", \"integer a1 a2\", \"a2 ai\", \"a1 a2 ai\", \"second contains integer\", \"good\", \"a1 a2\", \"a1\", \"guaranteed sum\", \"a2\", \"case first contains\", \"integer number case\", \"first contains one\", \"contains one integer\", \"solve\", \"number case\", \"sum\", \"case first\", \"give\", \"case\", \"positive integer\", \"problem\", \"one integer number\", \"positive\", \"integer length\", \"second contains\", \"one integer\", \"contains integer\", \"contains one\", \"second\", \"operation\", \"maximum\", \"third\", \"example\", \"integer number\", \"possible\", \"one\", \"equal\", \"answer\", \"single\", \"ai\", \"th\", \"two\", \"value\", \"find\", \"given\", \"single integer\", \"get\", \"want\", \"length\", \"following\", \"vertex\", \"tree\", \"number vertex\", \"number query\", \"query\", \"edge\", \"line contains two\", \"friend\", \"people\", \"connected\", \"th contains\", \"graph\", \"next line contains\", \"path\", \"two space\", \"two space separated\", \"line contains\", \"next line\", \"segment\", \"105 number\", \"describe\", \"integer 105 number\", \"form\", \"point\", \"type\", \"two integer number\", \"next line contain\", \"xi\", \"denoting\", \"contains two\", \"two integer\", \"line\", \"contains two integer\", \"pair\", \"two\", \"next\", \"integer number\", \"th\", \"guaranteed\", \"one\", \"given\", \"answer\", \"second\", \"example\", \"single\", \"possible\", \"set\", \"following\", \"single integer\", \"value\", \"want\", \"digit\", \"sequence\", \"character\", \"play\", \"game\", \"string consisting\", \"turn\", \"word\", \"non empty\", \"contains string\", \"string\", \"lowercase\", \"english\", \"position\", \"empty\", \"result\", \"letter\", \"resulting\", \"correct\", \"string length\", \"consisting\", \"program\", \"set\", \"written\", \"length\", \"zero\", \"called\", \"greater\", \"move\", \"consists\", \"make\", \"example\", \"given\", \"one\", \"second\", \"single\", \"equal\", \"two\", \"answer\", \"time\", \"possible\", \"th\", \"following\", \"problem\", \"element\", \"city\", \"string length\", \"operation\", \"graph\", \"english\", \"string\", \"lowercase\", \"bi\", \"letter\", \"connected\", \"contains string\", \"integer ai\", \"pair\", \"string consisting\", \"love\", \"ai\", \"106\", \"000\", \"perform\", \"edge\", \"consisting\", \"exist\", \"length\", \"line contain\", \"using\", \"path\", \"next line contain\", \"required\", \"105\", \"100\", \"contain\", \"next line\", \"line\", \"know\", \"minimum\", \"one\", \"given\", \"two\", \"equal\", \"way\", \"sample\", \"next\", \"second\", \"following\", \"possible\", \"th\", \"order\", \"single\", \"set\", \"answer\", \"example\"], \"Freq\": [6735.0, 4988.0, 2226.0, 3717.0, 4854.0, 3809.0, 3223.0, 3088.0, 2605.0, 2773.0, 3187.0, 1667.0, 2366.0, 2613.0, 1580.0, 3730.0, 3668.0, 2130.0, 2183.0, 1577.0, 4379.0, 1796.0, 3095.0, 1792.0, 2813.0, 1714.0, 1071.0, 940.0, 2251.0, 1157.0, 3587.1807731548743, 1479.1279833910958, 1847.3391895113384, 811.766245809144, 1530.2320778512506, 744.3469856176694, 931.6364386726405, 612.7076314381419, 1374.642126034724, 589.2237115397536, 461.3863453784566, 1160.503304455845, 1212.9453438454698, 566.9014629302427, 448.5197145869002, 373.2839728271256, 1704.3644136714397, 751.4433857958551, 2563.6348959582174, 1895.1044602963589, 492.52425230258626, 515.1029238878708, 553.7680611151856, 247.04437817297722, 244.50372659295334, 171.71339045666932, 205.56285643873497, 552.5204214298061, 451.14614242460897, 311.62750473195507, 692.0977987037227, 369.21790372883544, 1293.4442618799867, 381.666522799341, 3826.530403424458, 2291.500015442514, 2661.8703129001956, 2073.299269474116, 1240.5659026848707, 984.5225932140547, 871.5992616321466, 1140.1518511429028, 1338.2278676026715, 1135.4832072654265, 1070.7704144532315, 804.0421555635219, 878.2231650104001, 942.7760983266728, 786.9965878427631, 796.3074153377455, 789.5175040214189, 4739.026199617256, 3455.1248298349246, 2711.7164003931553, 298.7673569592548, 280.97464682049144, 209.70978049288175, 209.5748371094197, 869.7251122702412, 707.6699986192515, 393.2951560748132, 484.20047563728076, 165.38558031422497, 420.9531650690709, 165.65766739355917, 232.29468906163663, 447.7163712388609, 552.2125422297709, 346.52266417747, 315.45288629309675, 1229.8758008560014, 173.03616222992187, 416.1550353621478, 902.1037070421366, 643.1780492199038, 1587.0119247745488, 434.5342312572299, 818.9669389402358, 272.03470916554556, 1176.0740351348138, 887.4367798463218, 1596.0941584097059, 567.381468651971, 3358.057214204341, 1167.5793532458385, 1026.6912449800725, 1130.0876697620306, 2208.67130128664, 1406.0925625076106, 1592.8922528572898, 3259.366232677348, 1243.484610113679, 1378.8294617580884, 1371.005205493897, 790.9372548136473, 1744.9701933832873, 1880.8620344929273, 1024.6039821616207, 967.7234190506892, 1268.8948564823777, 898.6039256556168, 871.7654715347085, 924.764792886506, 955.1148909477972, 879.7723127293287, 2859.102841883997, 2072.4371063177364, 339.61075110725176, 310.26894011627695, 2613.964357395511, 1983.9077698606748, 375.1700150798858, 759.5862420612611, 499.91578161695537, 601.3649108430027, 182.39312069187568, 847.6370562690117, 431.59770979575086, 703.1051671953066, 187.77196638292418, 186.46745046981468, 606.9696726211843, 896.1308695425074, 787.1669443793596, 147.10328532775762, 168.2201904042412, 112.70982586860183, 446.2087807624241, 1554.9202467501593, 749.2666785264361, 314.92001931875126, 277.2620942145267, 331.2034287952436, 215.4004028736987, 1087.8187832051606, 1233.1318702445967, 1780.3990272690005, 900.6633575557687, 1083.7415662796807, 3201.0445860933964, 1267.9823330800584, 1401.622310490432, 2268.7136598053794, 940.9845671964473, 3118.6422643252467, 1377.0346947803255, 1227.6077432892905, 1823.365326000742, 1432.8000136914757, 1153.4217558153773, 1165.2204114512845, 829.3469124386309, 881.0551859617871, 804.971431498062, 813.7354769284558, 803.282668326677, 1517.18179670985, 3590.1425412272547, 1955.4605052420843, 612.2287088950976, 1484.3261328327226, 373.261354557209, 630.5557699372372, 1055.4165759617833, 306.85136611416306, 317.3786900788562, 3568.0915846802827, 474.713459911724, 271.1421522243527, 1056.4849579687263, 683.9774762838988, 415.5002113765585, 1155.3342532482225, 249.23895973899326, 403.2454792459504, 208.11858234995012, 721.2117638704193, 331.86571360827304, 1076.3618885984101, 230.06288739470008, 1573.4040190344463, 524.7292026934377, 216.18103918369113, 208.96811874155662, 941.9752392622796, 361.9725925424605, 731.1871410290281, 1855.4157952035453, 1181.1422831743507, 2361.388258100267, 1608.711345015172, 966.3446018783449, 759.3723092519501, 1190.406572527115, 829.0950092626508, 784.0341661410681, 718.7805608077288, 791.0321694148844, 627.9325397168258, 594.3024661353793, 542.5815828701072, 2141.1103494315307, 226.2044941016789, 1398.2013720348425, 713.9469798530761, 225.66996760952335, 2576.000359688394, 356.10545898372555, 269.83965447295435, 963.1671548047358, 386.5219222746661, 178.0334252811716, 82.01939465932969, 801.1391540517453, 153.5236630862702, 137.8701433433513, 547.4414868710323, 101.30347473883687, 153.6598901249271, 164.20645833258925, 564.8143467919875, 375.4742839025413, 90.98725289540226, 885.1114117321548, 206.66034304723442, 165.92843266379003, 282.74465490142853, 130.61271564961135, 164.21079693780143, 201.7965729166246, 192.57490627563828, 435.9943402335544, 325.43567796346076, 685.2215912437149, 302.09052136766303, 430.7991445672852, 1534.0452705314565, 725.2515256338377, 1077.8158305383836, 544.9359423609864, 430.68786450859847, 426.7995187123186, 481.27569138248776, 985.6649921326032, 493.8342490197615, 598.8013788724452, 769.5009601930739, 418.2016944332878, 461.3003914350808, 359.46699997212636, 413.9617150145715, 451.4562511587833], \"Total\": [6735.0, 4988.0, 2226.0, 3717.0, 4854.0, 3809.0, 3223.0, 3088.0, 2605.0, 2773.0, 3187.0, 1667.0, 2366.0, 2613.0, 1580.0, 3730.0, 3668.0, 2130.0, 2183.0, 1577.0, 4379.0, 1796.0, 3095.0, 1792.0, 2813.0, 1714.0, 1071.0, 940.0, 2251.0, 1157.0, 3717.0167188102237, 1577.0131352502717, 2130.5805918304113, 938.3805469877606, 1796.5439208964774, 917.7288832149061, 1157.484687396848, 787.7853001980278, 1792.784947533891, 791.9350787343622, 640.2648561249912, 1665.9012506460354, 1787.4716401416017, 888.2734079389575, 743.1015215789428, 634.3860096098084, 3095.6349087505255, 1409.696479749706, 4848.804284719798, 3668.364355805003, 978.4148566896532, 1035.7326274557984, 1122.1829865399518, 523.1512231334651, 541.2053948112114, 382.58565365311955, 462.2969980601153, 1251.8244467690542, 1037.2883462291377, 719.0004884207913, 1664.7033142122214, 862.5083705277239, 3680.2017789519527, 910.6805991683324, 14099.972429058776, 7865.716998239139, 10437.669190253055, 9423.428293125939, 4581.106699953364, 3492.5432714507383, 2901.3697000300617, 4989.645780467504, 7286.571228943116, 5211.177811254174, 5022.842369075932, 2696.84225950608, 3760.8174524381034, 5495.099458397564, 2669.7013062936203, 3443.722796119855, 4345.344877366381, 4988.6830718289075, 3809.8593887373295, 3730.5202424638364, 462.6391005971915, 437.71886636117955, 328.18586290890147, 328.18918441213594, 1400.9748203003883, 1227.4456026251553, 682.6493739050069, 858.312081644685, 298.17058593581453, 767.0145875092525, 307.6187374670569, 440.6227422089074, 849.5985987668182, 1047.963933039086, 658.8540893558908, 604.3784655435244, 2361.187938743903, 332.54625106836465, 800.0327791619676, 1772.5087885219243, 1291.4753296974834, 3197.0159392765845, 883.4017249664979, 1680.1804962639962, 563.5349505186975, 2535.363873233035, 1917.9158634820762, 3664.343832760479, 1227.0359782857706, 10437.669190253055, 3088.21769325747, 2734.0829348624693, 3082.6693833206773, 7286.571228943116, 4345.344877366381, 5211.177811254174, 14099.972429058776, 3916.924260131889, 4989.645780467504, 5022.842369075932, 2141.4184867565045, 7865.716998239139, 9423.428293125939, 3443.722796119855, 3244.3224152382786, 5495.099458397564, 2891.058214626951, 2696.84225950608, 3308.1588283170245, 4379.1856010069405, 3760.8174524381034, 3223.0093377589938, 2366.09598640181, 391.4082990121395, 371.2268706638622, 3187.727299717666, 2605.163016586689, 536.069327574905, 1131.4775272545269, 862.81820991346, 1071.9745998706392, 328.3994551304532, 1580.0348611551553, 844.2798677687108, 1434.4638247331134, 398.3903889868628, 396.8301358365852, 1292.9086095874807, 1957.1635441451308, 1721.8218305223456, 333.8441042839449, 385.3963963048323, 258.75709086860184, 1024.6462319041445, 3668.364355805003, 1778.4150162201436, 750.267683110814, 673.1199732596945, 809.4237400790538, 540.8700917854351, 2764.3614486301826, 3136.5208061306143, 4581.106699953364, 2304.1159300647973, 2813.3293442954305, 9423.428293125939, 3492.5432714507383, 4345.344877366381, 7865.716998239139, 2808.9044686375914, 14099.972429058776, 5495.099458397564, 4989.645780467504, 10437.669190253055, 7286.571228943116, 5022.842369075932, 5211.177811254174, 2868.2700597769594, 3760.8174524381034, 2891.058214626951, 3443.722796119855, 3308.1588283170245, 1667.226533800604, 4854.8174707642565, 2773.7918934052514, 891.4513186269446, 2183.3940729196274, 569.818464492366, 1020.084695114149, 1714.6095876630302, 519.9898816643123, 557.0198232352909, 6735.641986491422, 940.8842201471425, 564.5652105975076, 2251.3754731480108, 1471.6922000199838, 922.2110488149877, 2613.610096150452, 570.4473117613368, 930.4440976770638, 498.34054705652574, 1788.9191450546077, 828.3956647911001, 2868.2700597769594, 632.6329501739901, 4379.1856010069405, 1488.1159764265317, 630.1489355459139, 673.3357231985781, 3095.6349087505255, 1213.0386512792552, 2453.3596331749045, 7286.571228943116, 5495.099458397564, 14099.972429058776, 10437.669190253055, 5022.842369075932, 3916.924260131889, 9423.428293125939, 4989.645780467504, 4848.804284719798, 5211.177811254174, 7865.716998239139, 3760.8174524381034, 3197.0159392765845, 3730.5202424638364, 2226.3064697389827, 498.34054705652574, 3088.21769325747, 1580.0348611551553, 564.5652105975076, 6735.641986491422, 940.8842201471425, 713.9040530985274, 2613.610096150452, 1071.9745998706392, 557.0198232352909, 275.757473039652, 2813.3293442954305, 569.818464492366, 528.2980933495925, 2141.4184867565045, 420.49143465505506, 685.4159808468613, 754.6223769559341, 2605.163016586689, 1788.9191450546077, 448.3044143983521, 4379.1856010069405, 1030.1768414258327, 838.3781613090143, 1434.4638247331134, 673.1199732596945, 904.8533033186134, 1129.8050766660438, 1092.997334808295, 2611.479750029274, 1957.1635441451308, 4581.106699953364, 1814.5122839131882, 2758.4068942262816, 14099.972429058776, 5495.099458397564, 9423.428293125939, 3916.924260131889, 2860.2540737699896, 2901.3697000300617, 3492.5432714507383, 10437.669190253055, 3760.8174524381034, 5211.177811254174, 7865.716998239139, 3680.2017789519527, 5022.842369075932, 2868.2700597769594, 4989.645780467504, 7286.571228943116], \"Category\": [\"Default\", \"Default\", \"Default\", \"Default\", \"Default\", \"Default\", \"Default\", \"Default\", \"Default\", \"Default\", \"Default\", \"Default\", \"Default\", \"Default\", \"Default\", \"Default\", \"Default\", \"Default\", \"Default\", \"Default\", \"Default\", \"Default\", \"Default\", \"Default\", \"Default\", \"Default\", \"Default\", \"Default\", \"Default\", \"Default\", \"Topic1\", \"Topic1\", \"Topic1\", \"Topic1\", \"Topic1\", \"Topic1\", \"Topic1\", \"Topic1\", \"Topic1\", \"Topic1\", \"Topic1\", \"Topic1\", \"Topic1\", \"Topic1\", \"Topic1\", \"Topic1\", \"Topic1\", \"Topic1\", \"Topic1\", \"Topic1\", \"Topic1\", \"Topic1\", \"Topic1\", \"Topic1\", \"Topic1\", \"Topic1\", \"Topic1\", \"Topic1\", \"Topic1\", \"Topic1\", \"Topic1\", \"Topic1\", \"Topic1\", \"Topic1\", \"Topic1\", \"Topic1\", \"Topic1\", \"Topic1\", \"Topic1\", \"Topic1\", \"Topic1\", \"Topic1\", \"Topic1\", \"Topic1\", \"Topic1\", \"Topic1\", \"Topic1\", \"Topic1\", \"Topic1\", \"Topic1\", \"Topic1\", \"Topic2\", \"Topic2\", \"Topic2\", \"Topic2\", \"Topic2\", \"Topic2\", \"Topic2\", \"Topic2\", \"Topic2\", \"Topic2\", \"Topic2\", \"Topic2\", \"Topic2\", \"Topic2\", \"Topic2\", \"Topic2\", \"Topic2\", \"Topic2\", \"Topic2\", \"Topic2\", \"Topic2\", \"Topic2\", \"Topic2\", \"Topic2\", \"Topic2\", \"Topic2\", \"Topic2\", \"Topic2\", \"Topic2\", \"Topic2\", \"Topic2\", \"Topic2\", \"Topic2\", \"Topic2\", \"Topic2\", \"Topic2\", \"Topic2\", \"Topic2\", \"Topic2\", \"Topic2\", \"Topic2\", \"Topic2\", \"Topic2\", \"Topic2\", \"Topic2\", \"Topic2\", \"Topic2\", \"Topic2\", \"Topic2\", \"Topic2\", \"Topic2\", \"Topic2\", \"Topic2\", \"Topic2\", \"Topic3\", \"Topic3\", \"Topic3\", \"Topic3\", \"Topic3\", \"Topic3\", \"Topic3\", \"Topic3\", \"Topic3\", \"Topic3\", \"Topic3\", \"Topic3\", \"Topic3\", \"Topic3\", \"Topic3\", \"Topic3\", \"Topic3\", \"Topic3\", \"Topic3\", \"Topic3\", \"Topic3\", \"Topic3\", \"Topic3\", \"Topic3\", \"Topic3\", \"Topic3\", \"Topic3\", \"Topic3\", \"Topic3\", \"Topic3\", \"Topic3\", \"Topic3\", \"Topic3\", \"Topic3\", \"Topic3\", \"Topic3\", \"Topic3\", \"Topic3\", \"Topic3\", \"Topic3\", \"Topic3\", \"Topic3\", \"Topic3\", \"Topic3\", \"Topic3\", \"Topic3\", \"Topic3\", \"Topic3\", \"Topic3\", \"Topic3\", \"Topic3\", \"Topic4\", \"Topic4\", \"Topic4\", \"Topic4\", \"Topic4\", \"Topic4\", \"Topic4\", \"Topic4\", \"Topic4\", \"Topic4\", \"Topic4\", \"Topic4\", \"Topic4\", \"Topic4\", \"Topic4\", \"Topic4\", \"Topic4\", \"Topic4\", \"Topic4\", \"Topic4\", \"Topic4\", \"Topic4\", \"Topic4\", \"Topic4\", \"Topic4\", \"Topic4\", \"Topic4\", \"Topic4\", \"Topic4\", \"Topic4\", \"Topic4\", \"Topic4\", \"Topic4\", \"Topic4\", \"Topic4\", \"Topic4\", \"Topic4\", \"Topic4\", \"Topic4\", \"Topic4\", \"Topic4\", \"Topic4\", \"Topic4\", \"Topic4\", \"Topic4\", \"Topic5\", \"Topic5\", \"Topic5\", \"Topic5\", \"Topic5\", \"Topic5\", \"Topic5\", \"Topic5\", \"Topic5\", \"Topic5\", \"Topic5\", \"Topic5\", \"Topic5\", \"Topic5\", \"Topic5\", \"Topic5\", \"Topic5\", \"Topic5\", \"Topic5\", \"Topic5\", \"Topic5\", \"Topic5\", \"Topic5\", \"Topic5\", \"Topic5\", \"Topic5\", \"Topic5\", \"Topic5\", \"Topic5\", \"Topic5\", \"Topic5\", \"Topic5\", \"Topic5\", \"Topic5\", \"Topic5\", \"Topic5\", \"Topic5\", \"Topic5\", \"Topic5\", \"Topic5\", \"Topic5\", \"Topic5\", \"Topic5\", \"Topic5\", \"Topic5\", \"Topic5\", \"Topic5\", \"Topic5\", \"Topic5\", \"Topic5\", \"Topic5\"], \"logprob\": [30.0, 29.0, 28.0, 27.0, 26.0, 25.0, 24.0, 23.0, 22.0, 21.0, 20.0, 19.0, 18.0, 17.0, 16.0, 15.0, 14.0, 13.0, 12.0, 11.0, 10.0, 9.0, 8.0, 7.0, 6.0, 5.0, 4.0, 3.0, 2.0, 1.0, -3.4924, -4.3783, -4.156, -4.9783, -4.3443, -5.065, -4.8406, -5.2596, -4.4516, -5.2987, -5.5433, -4.6209, -4.5767, -5.3373, -5.5716, -5.7552, -4.2366, -5.0555, -3.8283, -4.1305, -5.478, -5.4331, -5.3608, -6.1679, -6.1783, -6.5317, -6.3518, -5.363, -5.5657, -5.9357, -5.1378, -5.7661, -4.5124, -5.733, -3.4278, -3.9405, -3.7907, -4.0406, -4.5542, -4.7854, -4.9072, -4.6386, -4.4784, -4.6427, -4.7014, -4.9879, -4.8996, -4.8287, -5.0093, -4.9975, -5.0061, -3.2097, -3.5257, -3.768, -5.9736, -6.035, -6.3276, -6.3282, -4.9051, -5.1113, -5.6987, -5.4908, -6.565, -5.6308, -6.5634, -6.2253, -5.5691, -5.3594, -5.8253, -5.9193, -4.5586, -6.5198, -5.6422, -4.8686, -5.2069, -4.3037, -5.599, -4.9653, -6.0674, -4.6034, -4.885, -4.298, -5.3323, -3.5542, -4.6106, -4.7392, -4.6432, -3.9732, -4.4247, -4.3, -3.584, -4.5476, -4.4443, -4.45, -5.0001, -4.2088, -4.1338, -4.7412, -4.7984, -4.5274, -4.8725, -4.9028, -4.8438, -4.8115, -4.8936, -3.652, -3.9738, -5.7825, -5.8728, -3.7416, -4.0174, -5.6829, -4.9775, -5.3958, -5.2111, -6.4041, -4.8678, -5.5428, -5.0548, -6.375, -6.382, -5.2018, -4.8122, -4.9418, -6.6191, -6.485, -6.8855, -5.5095, -4.2611, -4.9912, -5.858, -5.9853, -5.8075, -6.2378, -4.6183, -4.493, -4.1257, -4.8071, -4.6221, -3.539, -4.4651, -4.3649, -3.8833, -4.7633, -3.5651, -4.3826, -4.4974, -4.1018, -4.3429, -4.5598, -4.5496, -4.8896, -4.8292, -4.9195, -4.9086, -4.9216, -4.0083, -3.147, -3.7545, -4.9158, -4.0302, -5.4107, -4.8863, -4.3712, -5.6066, -5.5728, -3.1531, -5.1702, -5.7303, -4.3702, -4.805, -5.3034, -4.2808, -5.8145, -5.3334, -5.9948, -4.752, -5.5282, -4.3516, -5.8946, -3.9719, -5.07, -5.9568, -5.9907, -4.485, -5.4414, -4.7383, -3.8071, -4.2587, -3.5659, -3.9497, -4.4594, -4.7004, -4.2509, -4.6126, -4.6685, -4.7554, -4.6596, -4.8905, -4.9455, -5.0366, -3.2543, -5.502, -3.6805, -4.3526, -5.5043, -3.0694, -5.0482, -5.3256, -4.0532, -4.9662, -5.7414, -6.5164, -4.2374, -5.8895, -5.9971, -4.6181, -6.3053, -5.8887, -5.8223, -4.5869, -4.9952, -6.4127, -4.1377, -5.5923, -5.8118, -5.2789, -6.0512, -5.8222, -5.6161, -5.6629, -4.8458, -5.1382, -4.3937, -5.2127, -4.8578, -3.5877, -4.3369, -3.9407, -4.6227, -4.858, -4.8671, -4.747, -4.0301, -4.7212, -4.5285, -4.2777, -4.8874, -4.7893, -5.0388, -4.8976, -4.8109], \"loglift\": [30.0, 29.0, 28.0, 27.0, 26.0, 25.0, 24.0, 23.0, 22.0, 21.0, 20.0, 19.0, 18.0, 17.0, 16.0, 15.0, 14.0, 13.0, 12.0, 11.0, 10.0, 9.0, 8.0, 7.0, 6.0, 5.0, 4.0, 3.0, 2.0, 1.0, 1.3778, 1.3493, 1.2707, 1.2684, 1.2529, 1.204, 1.1963, 1.162, 1.1478, 1.1177, 1.0857, 1.0518, 1.0256, 0.9643, 0.9085, 0.883, 0.8166, 0.7842, 0.776, 0.7529, 0.727, 0.7149, 0.7071, 0.6631, 0.6188, 0.6122, 0.6029, 0.5955, 0.5808, 0.5773, 0.5357, 0.5649, 0.3677, 0.5437, 0.1091, 0.18, 0.047, -0.1007, 0.107, 0.1471, 0.2107, -0.0628, -0.2813, -0.1104, -0.1323, 0.2032, -0.0411, -0.3494, 0.1919, -0.051, -0.2921, 1.3662, 1.3198, 1.0986, 0.9803, 0.9743, 0.9697, 0.9691, 0.9408, 0.8669, 0.8661, 0.8451, 0.8282, 0.8176, 0.7986, 0.7774, 0.777, 0.7769, 0.775, 0.7674, 0.7653, 0.7643, 0.764, 0.7421, 0.7204, 0.7172, 0.7081, 0.699, 0.6893, 0.6494, 0.6469, 0.5865, 0.6462, 0.2835, 0.4449, 0.4381, 0.4141, 0.2239, 0.2893, 0.2323, -0.0471, 0.2702, 0.1314, 0.1191, 0.4216, -0.0882, -0.1939, 0.2053, 0.2079, -0.0481, 0.249, 0.2882, 0.143, -0.1052, -0.0352, 1.3608, 1.3481, 1.3386, 1.3012, 1.2822, 1.2082, 1.1237, 1.0821, 0.9348, 0.9025, 0.8925, 0.8578, 0.8096, 0.7676, 0.7284, 0.7253, 0.7244, 0.6994, 0.6979, 0.6611, 0.6516, 0.6495, 0.6493, 0.6223, 0.6162, 0.6125, 0.5936, 0.587, 0.5599, 0.548, 0.547, 0.5355, 0.5413, 0.5266, 0.4009, 0.4674, 0.3491, 0.2373, 0.387, -0.0282, 0.0967, 0.0783, -0.2641, -0.1458, 0.0093, -0.0173, 0.2398, 0.0293, 0.202, 0.0379, 0.0652, 1.6636, 1.4562, 1.4083, 1.3822, 1.372, 1.3349, 1.2769, 1.2727, 1.2305, 1.1954, 1.1225, 1.0738, 1.0245, 1.0013, 0.9917, 0.9606, 0.9416, 0.9299, 0.9218, 0.8848, 0.8495, 0.8432, 0.7778, 0.7464, 0.7343, 0.7155, 0.6881, 0.5879, 0.5682, 0.5486, 0.5474, 0.39, 0.2206, -0.029, -0.1121, 0.1097, 0.1174, -0.311, -0.0369, -0.0641, -0.2231, -0.539, -0.032, 0.0753, -0.17, 2.1284, 1.3776, 1.3751, 1.3731, 1.2505, 1.2063, 1.1959, 1.1945, 1.1692, 1.1474, 1.0268, 0.9549, 0.9114, 0.856, 0.8241, 0.8035, 0.7442, 0.6722, 0.6424, 0.6387, 0.6063, 0.5727, 0.5686, 0.5611, 0.5476, 0.5435, 0.5278, 0.4608, 0.4449, 0.4313, 0.3774, 0.3734, 0.2675, 0.3746, 0.3107, -0.0508, 0.1424, -0.0008, 0.1951, 0.2742, 0.2508, 0.1855, -0.1924, 0.1373, 0.0038, -0.1571, -0.0073, -0.2202, 0.0906, -0.3219, -0.6138]}, \"token.table\": {\"Topic\": [1, 2, 3, 4, 5, 1, 2, 3, 4, 5, 1, 2, 3, 4, 5, 1, 2, 3, 4, 5, 1, 2, 3, 4, 5, 1, 2, 3, 4, 5, 1, 2, 3, 4, 5, 1, 2, 3, 4, 5, 1, 2, 3, 4, 5, 1, 2, 3, 4, 5, 1, 2, 3, 4, 5, 1, 2, 3, 4, 5, 1, 2, 3, 4, 5, 1, 2, 3, 4, 5, 1, 2, 3, 4, 5, 1, 2, 3, 4, 5, 1, 2, 3, 4, 5, 1, 2, 3, 4, 5, 1, 2, 3, 4, 5, 1, 2, 3, 4, 5, 1, 2, 3, 4, 5, 1, 2, 3, 4, 5, 1, 2, 3, 4, 5, 1, 2, 3, 4, 5, 1, 2, 3, 4, 5, 1, 2, 3, 4, 5, 1, 2, 3, 4, 5, 1, 2, 3, 4, 5, 1, 2, 3, 4, 5, 1, 2, 3, 4, 5, 1, 2, 3, 4, 5, 1, 2, 3, 4, 5, 1, 2, 3, 4, 5, 1, 2, 3, 4, 5, 1, 2, 3, 4, 5, 1, 2, 3, 4, 5, 1, 2, 3, 4, 5, 1, 2, 3, 4, 5, 1, 2, 3, 4, 5, 1, 2, 3, 4, 5, 1, 2, 3, 4, 5, 1, 2, 3, 4, 5, 1, 2, 3, 4, 5, 1, 2, 3, 4, 5, 1, 2, 3, 4, 5, 1, 2, 3, 4, 5, 1, 2, 3, 4, 5, 1, 2, 3, 4, 5, 1, 2, 3, 4, 5, 1, 2, 3, 4, 5, 1, 2, 3, 4, 5, 1, 2, 3, 4, 5, 1, 2, 3, 4, 5, 1, 2, 3, 4, 5, 1, 2, 3, 4, 5, 1, 2, 3, 4, 5, 1, 2, 3, 4, 5, 1, 2, 3, 4, 5, 1, 2, 3, 4, 5, 1, 2, 3, 4, 5, 1, 2, 3, 4, 5, 1, 2, 3, 4, 5, 1, 2, 3, 4, 5, 1, 2, 3, 4, 5, 1, 2, 3, 4, 5, 1, 2, 3, 4, 5, 1, 2, 3, 4, 5, 1, 2, 3, 4, 5, 1, 2, 3, 4, 5, 1, 2, 3, 4, 5, 1, 2, 3, 4, 5, 1, 2, 3, 4, 5, 1, 2, 3, 4, 5, 1, 2, 3, 4, 5, 1, 2, 3, 4, 5, 1, 2, 3, 4, 5, 1, 2, 3, 4, 5, 1, 2, 3, 4, 5, 1, 2, 3, 4, 5, 1, 2, 3, 4, 5, 1, 2, 3, 4, 5, 1, 2, 3, 4, 5, 1, 2, 3, 4, 5, 1, 2, 3, 4, 5, 1, 2, 3, 4, 5, 1, 2, 3, 4, 5, 1, 2, 3, 4, 5, 1, 2, 3, 4, 5, 1, 2, 3, 4, 5, 1, 2, 3, 4, 5, 1, 2, 3, 4, 5, 1, 2, 3, 4, 5, 1, 2, 3, 4, 5, 1, 2, 3, 4, 5, 1, 2, 3, 4, 5, 1, 2, 3, 4, 5, 1, 2, 3, 4, 5, 1, 2, 3, 4, 5, 1, 2, 3, 4, 5, 1, 2, 3, 4, 5, 1, 2, 3, 4, 5, 1, 2, 3, 4, 5, 1, 2, 3, 4, 5, 1, 2, 3, 4, 5, 1, 2, 3, 4, 5, 1, 2, 3, 4, 5, 1, 2, 3, 4, 5, 1, 2, 3, 4, 5, 1, 2, 3, 4, 5, 1, 2, 3, 4, 5, 1, 2, 3, 4, 5, 1, 2, 3, 4, 5, 1, 2, 3, 4, 5, 1, 2, 3, 4, 5, 1, 2, 3, 4, 5, 1, 2, 3, 4, 5, 1, 2, 3, 4, 5, 1, 2, 3, 4, 5, 1, 2, 3, 4, 5, 1, 2, 3, 4, 5, 1, 2, 3, 4, 5, 1, 2, 3, 4, 5, 1, 2, 3, 4, 5, 1, 2, 3, 4, 5, 1, 2, 3, 4, 5, 1, 2, 3, 4, 5, 1, 2, 3, 4, 5, 1, 2, 3, 4, 5, 1, 2, 3, 4, 5, 1, 2, 3, 4, 5, 1, 2, 3, 4, 5, 1, 2, 3, 4, 5, 1, 2, 3, 4, 5, 1, 2, 3, 4, 5, 1, 2, 3, 4, 5, 1, 2, 3, 4, 5, 1, 2, 3, 4, 5, 1, 2, 3, 4, 5, 1, 2, 3, 4, 5, 1, 2, 3, 4, 5, 1, 2, 3, 4, 5, 1, 2, 3, 4, 5, 1, 2, 3, 4, 5, 1, 2, 3, 4, 5, 1, 2, 3, 4, 5, 1, 2, 3, 4, 5, 1, 2, 3, 4, 5, 1, 2, 3, 4, 5, 1, 2, 3, 4, 5, 1, 2, 3, 4, 5, 1, 2, 3, 4, 5, 1, 2, 3, 4, 5, 1, 2, 3, 4, 5, 1, 2, 3, 4, 5, 1, 2, 3, 4, 5, 1, 2, 3, 4, 5, 1, 2, 3, 4, 5, 1, 2, 3, 4, 5, 1, 2, 3, 4, 5, 1, 2, 3, 4, 5, 1, 2, 3, 4, 5, 1, 2, 3, 4, 5, 1, 2, 3, 4, 5, 1, 2, 3, 4, 5, 1, 2, 3, 4, 5, 1, 2, 3, 4, 5, 1, 2, 3, 4, 5, 1, 2, 3, 4, 5, 1, 2, 3, 4, 5, 1, 2, 3, 4, 5, 1, 2, 3, 4, 5], \"Freq\": [0.22759901192740678, 0.23051694797775815, 0.21446829970082562, 0.10358672978747359, 0.2246810758770554, 0.2589210339196632, 0.22598408260832795, 0.16376984124247249, 0.17474882501291755, 0.17657865564132508, 0.19383874663251638, 0.21154091527475533, 0.300936866918062, 0.1150640961745531, 0.1787919032866133, 0.1677429652984683, 0.15875673501462179, 0.4403252839084793, 0.07188984227077212, 0.15875673501462179, 0.2520859909713875, 0.10226129822424211, 0.18074089918703257, 0.22116978453150038, 0.2401951423406617, 0.09903157816108595, 0.5638974568231246, 0.07922526252886875, 0.12815851291434652, 0.13048866769460735, 0.08203332800213277, 0.5756981768721103, 0.07763868543058994, 0.12304999200319915, 0.1420934431465514, 0.07312855249325065, 0.6398748343159432, 0.08836366759601119, 0.06703450645214643, 0.13406901290429285, 0.10690800583895133, 0.5488813470512013, 0.08213663863236503, 0.1290718607080022, 0.1329831292143053, 0.07312929261264971, 0.639881310360685, 0.08836456190695174, 0.0670351848949289, 0.1340703697898578, 0.44560098997920067, 0.21414804858223724, 0.19035382096198863, 0.08868757567547199, 0.06273023645338262, 0.09339603689651975, 0.36938132592573564, 0.21948068670682142, 0.06210836453618564, 0.2554381609119815, 0.2284731321936019, 0.2763723239429623, 0.24610965467872206, 0.1661440584109614, 0.08297182169136069, 0.010223138905735863, 0.9499501034172991, 0.027261703748628966, 0.0050113426008509135, 0.007416787049259351, 0.44957252933469355, 0.12023451365927851, 0.16466900783770752, 0.1620552140625058, 0.10193795723286657, 0.07003742279230259, 0.09945314036506968, 0.3908088191810485, 0.06163293205722628, 0.378202083078434, 0.1634534221830725, 0.22534355291258537, 0.19043117147542427, 0.3427761086557637, 0.07934632144809345, 0.11057773099305322, 0.5088832314068061, 0.25218492731578973, 0.09590925647356656, 0.03215780952348997, 0.10224141721871434, 0.52022838761287, 0.2977029501368447, 0.05713490962222272, 0.018042603038596648, 0.10402487268327372, 0.5396290270444825, 0.27631606806494585, 0.061764768155693775, 0.019504663628113823, 0.9650212176468659, 0.005380659144950465, 0.0115684171616435, 0.01668004334934644, 0.0013451647862376163, 0.11716812669785875, 0.008291898197079234, 0.0562407008149722, 0.704811346751735, 0.11320243625577738, 0.016170280457488282, 0.008085140228744141, 0.008534314685896592, 0.005390093485829427, 0.9616825127634003, 0.9378488783261041, 0.002536440509333615, 0.015218643056001688, 0.019657413947335514, 0.024096184838669342, 0.052240043753609286, 0.013060010938402321, 0.5606476124271282, 0.013060010938402321, 0.361016016654407, 0.06931559782497315, 0.15204711780961852, 0.16546303996929076, 0.4030366615468197, 0.2096237837448785, 0.17394334449069868, 0.15663144764565284, 0.25061031623304453, 0.2984241265669807, 0.11953452583484032, 0.24239131090061267, 0.12062126845765085, 0.2730252838422383, 0.19682327614994458, 0.1669551525318596, 0.1700167965762842, 0.43554864740890786, 0.2060396170386751, 0.11407226479757111, 0.07422884216492666, 0.07497742660205327, 0.4620891400365674, 0.22411730777787664, 0.16543932174148712, 0.0725325105172037, 0.06202503535737207, 0.5267356848810674, 0.2299697464788718, 0.12214160808836345, 0.059162341417801044, 0.030519560150050574, 0.005385804732361867, 0.07540126625306613, 0.5691000333862372, 0.3195577474534707, 0.419466496100671, 0.18337933206495302, 0.24047948336661504, 0.06478671013073191, 0.09223870594883864, 0.24128537906304434, 0.19136426615344895, 0.39358094815680994, 0.0835636020443227, 0.09007505155426992, 0.2365332372771162, 0.21179489869950957, 0.39103935190216826, 0.07638504543261, 0.08463115829181223, 0.7669631552247328, 0.006135705241797862, 0.20638281267865535, 0.01115582771235975, 0.009482453555505787, 0.2493432980865896, 0.11714835987688907, 0.1192978710672907, 0.4331265048659293, 0.0816814252352621, 0.040158962415331435, 0.9068576153266019, 0.02231053467518413, 0.0036746762994420918, 0.027035118488752532, 0.24220233654917664, 0.1257233502698016, 0.39750765158834334, 0.10723462228894844, 0.12757222306788693, 0.26466256814535, 0.07784193180745588, 0.435914818121753, 0.09600504922919559, 0.12454709089192942, 0.010196574763746625, 0.007197582186174088, 0.010796373279261133, 0.9098943480355077, 0.06177924709799426, 0.778130792547041, 0.00888566973544745, 0.09520360430836554, 0.0355426789417898, 0.08250979040058347, 0.43478749340964234, 0.04049018785633033, 0.36441169070697293, 0.01542483346907822, 0.1446078137726083, 0.011515594152455882, 0.007293209629888725, 0.761564626615749, 0.002686971968906372, 0.21687702320458577, 0.06996343218543201, 0.7269763528233395, 0.036992159546320375, 0.14555610604095626, 0.02064055279033818, 0.1950136040648329, 0.1345390021074457, 0.1134748149088052, 0.46477109818935786, 0.09173113780053116, 0.005313823706609462, 0.0035425491377396416, 0.1098190232699289, 0.48001540816372146, 0.4003080525645795, 0.17232909169841126, 0.3173408310831485, 0.17717983650177396, 0.1937744897764358, 0.13913978514908762, 0.1836254608594653, 0.3031604208060978, 0.1966631430580073, 0.2545778997715307, 0.06189468075307836, 0.19183393524111622, 0.2275239697045797, 0.2409077326283785, 0.13606825639195452, 0.20298707101094854, 0.23055661684138237, 0.29836738650061245, 0.19973353972355049, 0.16459523180922217, 0.10695607759887657, 0.05767429474474521, 0.5273078376662419, 0.22363502043880798, 0.13064993299319833, 0.0623824004381938, 0.4526931962410747, 0.2161840977967581, 0.17368636917004499, 0.06651818393746403, 0.09238636657981115, 0.2334598823537156, 0.23399168163014775, 0.23425758126836382, 0.16698497279969635, 0.13135442127874203, 0.17274254712387244, 0.10052249917377887, 0.4352721808884017, 0.19518931878403664, 0.09466681961025777, 0.5038762408698546, 0.12366942220132335, 0.1573974464380479, 0.14104446498993903, 0.07461047785699673, 0.04330620699016093, 0.15024602425157874, 0.6716881084188226, 0.08396101355235283, 0.0503766081314117, 0.08335645967776682, 0.04396824246739349, 0.15846887389289738, 0.679675748141791, 0.033892186901949145, 0.2981264466492195, 0.32334112124144204, 0.15981654043011642, 0.12829819718983826, 0.09010538126338351, 0.1512438029436084, 0.519978694417695, 0.17874267620608264, 0.08124667100276484, 0.06999713194084356, 0.17160744898964755, 0.23093303580897429, 0.25058691119697213, 0.21491876697430942, 0.13193573755831864, 0.4936806266401871, 0.15416380579197178, 0.16040164764482612, 0.0908942669987348, 0.10158771017505654, 0.02932920198093202, 0.5768076389583296, 0.10509630709833974, 0.21671021463688658, 0.07250830489730416, 0.00379738456885276, 0.004430281996994886, 0.5366970190645234, 0.0031644871407106334, 0.4518887636934784, 0.172276616260548, 0.344553232521096, 0.11435602975915686, 0.3103949379177115, 0.05792058650139113, 0.2193025810873446, 0.17302119222150888, 0.3350060532519339, 0.15806874351100814, 0.11427942943025587, 0.07378326715545246, 0.5533745036658935, 0.23811872581986931, 0.09390597637966677, 0.04024541844842862, 0.4972325736856045, 0.1148945170263824, 0.12454951845717083, 0.17572102604034956, 0.08689501287709593, 0.16617902085564726, 0.17004364924763907, 0.4367030082950731, 0.08115719623182774, 0.1468558788956883, 0.07997594659041798, 0.6462921089333777, 0.07565292245039539, 0.0670068741703502, 0.1340137483407004, 0.07767542734140508, 0.641964561262789, 0.07310628455661654, 0.068537141771828, 0.13935885493605027, 0.054395624657624805, 0.28648362319682397, 0.3154946230142239, 0.04714287470327483, 0.2973627481283489, 0.02306866679348697, 0.4826674898329581, 0.11534333396743485, 0.28392205284291655, 0.09404918000421611, 0.18180375143866642, 0.32356465129463924, 0.32264412597089914, 0.09021148172652815, 0.0819267538128674, 0.10893672841163135, 0.5265275206562182, 0.2519161844518975, 0.0817025463087235, 0.03177321245339248, 0.23642716767660343, 0.2529605360455967, 0.22375158526037528, 0.12014247681468426, 0.16643590824786536, 0.6786121652279234, 0.08112016814348631, 0.08895246024009879, 0.11916272975560405, 0.031888617821922205, 0.7200145308459731, 0.04373190209042787, 0.07965453595042218, 0.1155771698104165, 0.04060819479825445, 0.06645071173349859, 0.2180770780257428, 0.15390989590507922, 0.359199208098946, 0.20209237073589778, 0.020278464671552546, 0.02754810295003365, 0.14194925270086783, 0.44191748482345644, 0.36845587695670007, 0.27089524022931694, 0.08316767649264284, 0.3885523993619534, 0.10783420521618257, 0.14952718739490903, 0.28441718763010504, 0.0708616201262719, 0.3543081006313595, 0.08930505550160295, 0.20093637487860663, 0.31943479758540166, 0.03480524428896628, 0.46948407296450073, 0.05800874048161047, 0.11833783058248537, 0.1772158844263024, 0.024250594710967698, 0.6995363858932989, 0.024250594710967698, 0.07461721449528522, 0.7437478346600271, 0.03535643356618126, 0.10606930069854377, 0.03535643356618126, 0.07828924575368708, 0.15900114169901877, 0.2820377394423071, 0.1343938221503611, 0.16467975390255515, 0.26121616136267367, 0.0031884900774835374, 0.006376980154967075, 0.10734583260861243, 0.5048442622682268, 0.3783674891947131, 0.22499758801592987, 0.22703560964650896, 0.1471451617278092, 0.29795876239066077, 0.1031238945073012, 0.22530406526639846, 0.3756286932282325, 0.2509067999557619, 0.09729039181958114, 0.05120546937872692, 0.2164292734511365, 0.2860346679278839, 0.22041708250970013, 0.12108438414184185, 0.15624960947644861, 0.8106969428636543, 0.03377903928598559, 0.05121338214326848, 0.07409595714345228, 0.029420453571664874, 0.550452508202195, 0.03908729665050798, 0.08980387164331587, 0.30429944995684727, 0.016151775475416522, 0.28202943340795006, 0.12913225834211722, 0.36305920970688393, 0.08818788374583615, 0.13772198727839996, 0.2595593002535152, 0.052627180956913516, 0.457805379974704, 0.06437888155894275, 0.1660566389417174, 0.26146899065807094, 0.06536724766451774, 0.41151653643344116, 0.0668528669296204, 0.19461612372845052, 0.28545036924417294, 0.009475530929267152, 0.5116786701804262, 0.056853185575602906, 0.1362107571082153, 0.00961557171842784, 0.14231046143273202, 0.12307931799587633, 0.5903961035114693, 0.13654111840167532, 0.11747605854247123, 0.5211965977588512, 0.23660670945878007, 0.08769339581339401, 0.03474643985059008, 0.04848786933933617, 0.04310032830163216, 0.835068860844123, 0.029631475707372106, 0.04310032830163216, 0.012774384223889247, 0.005109753689555699, 0.8686581272244689, 0.005109753689555699, 0.10985970432544753, 0.441755232874136, 0.14698546627276857, 0.21408752696251074, 0.04713120929398557, 0.15018080249608962, 0.2714189704451405, 0.23113520373156857, 0.22120610630216703, 0.1674471359344073, 0.10879453897644252, 0.11001525354554319, 0.4624811843360038, 0.2466218716921418, 0.11053665285144623, 0.07038890629691151, 0.07923914796821874, 0.49241470523107356, 0.28639292051370485, 0.07697517231198392, 0.06565529403080982, 0.07415280357339366, 0.37821167936123923, 0.03788593020998715, 0.05699080099963879, 0.452688294303949, 0.3513394312765699, 0.2334111148233361, 0.1703710931248332, 0.13124280379472797, 0.11358072874988881, 0.06540293633701137, 0.11694329377650403, 0.3853086032028279, 0.14786750824019965, 0.2847160435105767, 0.4278219349618928, 0.1333320393512674, 0.28637403234576564, 0.09159331398913152, 0.060289269967529605, 0.17916101861112857, 0.011851117962603835, 0.4900785839829704, 0.12199680255621595, 0.1972862578480521, 0.25729637767179997, 0.07417553230178017, 0.5794963461076577, 0.030133809997598196, 0.059108627302981075, 0.14179277379982627, 0.3856233380911163, 0.10071262438118501, 0.15371926879233502, 0.21732724208571505, 0.8051942372525404, 0.011231250090432429, 0.15550961663675672, 0.013823077034378375, 0.014687019349027023, 0.6383169809345058, 0.11370373028992078, 0.1035717147195318, 0.09118814013350082, 0.0529116368675869, 0.12115075466638682, 0.08076716977759121, 0.08076716977759121, 0.6865209431095254, 0.031409454913507696, 0.5165790025740647, 0.02726010567673165, 0.42389464327317716, 0.025079297222593118, 0.007360228532717545, 0.30203758018611726, 0.08528119911137429, 0.07373270339837569, 0.4690465951125586, 0.06973514719003002, 0.16129219485798593, 0.4874476294785627, 0.12498657166116992, 0.15415010504877624, 0.07201607224286458, 0.148667183634839, 0.497880203527091, 0.12234070319950292, 0.16028180735631078, 0.07123635882502702, 0.2178010501865488, 0.30568905105477734, 0.22355790613861617, 0.1379726476512146, 0.11494522384294514, 0.16828192608940754, 0.4964004027953341, 0.1088515060950071, 0.1857982604035466, 0.04066291894353714, 0.27643795076806427, 0.12433672021445685, 0.13278678857854614, 0.4007746709825211, 0.06518624166583174, 0.6042243044341564, 0.12380542540744409, 0.09823691363851542, 0.11169402509584629, 0.061902712703722045, 0.0527021241794678, 0.034821046332862655, 0.8200199559829097, 0.030742905771356216, 0.06148581154271243, 0.2376075759589674, 0.2221354547337323, 0.19008606076717394, 0.16798303044540952, 0.18124484863846815, 0.12144725455622819, 0.11819420309490065, 0.22446055083160033, 0.451089802637419, 0.08566368848162524, 0.11219265772747872, 0.17354801742219364, 0.14900587354430767, 0.43649955897097187, 0.12972276049739725, 0.6969200602675368, 0.06422949737177128, 0.09364300551398429, 0.10864989742327663, 0.03661681625867334, 0.8668998521258549, 0.009856468269974527, 0.030508116073730683, 0.05115976387748684, 0.041772651239415856, 0.4721388177601296, 0.11086660498011142, 0.14336198919841991, 0.23702515547472094, 0.03631837059693305, 0.3005477033798778, 0.2767658323555526, 0.14200189655104317, 0.13338527661469346, 0.147171868512853, 0.25503778204484956, 0.3217193358777629, 0.17465585149051868, 0.15415318982350223, 0.09446553459662722, 0.13094767323344464, 0.46383874615220144, 0.14278029430875588, 0.1652622743518473, 0.09742191352006271, 0.117061347301614, 0.6209961716610011, 0.1463266841270175, 0.06923750419668633, 0.04711005440186904, 0.4339357274781205, 0.13908196393529504, 0.19888720842747187, 0.15577179960753043, 0.07510426052505931, 0.3565990331379014, 0.14867972717150288, 0.4570740050155186, 0.017423405527910493, 0.020327306449228907, 0.05149524189230629, 0.0867179873466438, 0.04922945124904481, 0.7394716735735183, 0.07312324348707493, 0.1338786069641784, 0.07635264303425798, 0.2890243884721455, 0.3751390132642082, 0.12516255182328134, 0.5879700913162019, 0.12768251312764706, 0.1544800776112273, 0.08669800274099491, 0.04098451038665214, 0.8653205808736688, 0.013853654619898638, 0.08525325919937624, 0.017050651839875246, 0.019181983319859652, 0.2132258831361724, 0.272953021269554, 0.22955130089263004, 0.19232138478948885, 0.0917807022649631, 0.17951904163471483, 0.3109588023691881, 0.27844475629276577, 0.14216247805754875, 0.08889478554936746, 0.41568968722061533, 0.30275665080807823, 0.15137832540403912, 0.06427571753266739, 0.06607784045414405, 0.19275891589920585, 0.5266719985592474, 0.13963638002147194, 0.07285376348946362, 0.06981819001073597, 0.8516351769660763, 0.0038963700906944664, 0.015028856064107228, 0.1213440971101991, 0.008349364480059572, 0.5327387922067744, 0.14896823750122853, 0.11349960952474555, 0.12130270767957181, 0.08299658946497018, 0.003711598693953512, 0.003860062641711652, 0.08017053178939586, 0.5297193656010452, 0.38244312942496983, 0.0035098897712655544, 0.007019779542531109, 0.06493296076841275, 0.6545944423410258, 0.27026151238744767, 0.018059939238657112, 0.006019979746219037, 0.10434631560112997, 0.4173852624045199, 0.45350514088183413, 0.08639718874242736, 0.5209242262411061, 0.18168820573775166, 0.1486539865127059, 0.06225679777027854, 0.29139110910208177, 0.22184881561218703, 0.2884670272917206, 0.10056298747807446, 0.09789317365122294, 0.1979296828436559, 0.057856368831222485, 0.5542031119622365, 0.0700366570062167, 0.11875780970619353, 0.2150733398746157, 0.366565420902437, 0.19171695907375244, 0.1495457159610827, 0.0772058143139646, 0.2947895325011478, 0.20751385134134168, 0.2899200738956651, 0.1209873176593021, 0.08690110742092287, 0.5287901613352431, 0.16251429295326505, 0.08868165732221317, 0.1616893473037561, 0.058364904702758895, 0.01225647656167201, 0.08072369045790875, 0.8757041184753244, 0.005071645473795314, 0.02578086449179285, 0.15586941041420846, 0.06372019922593428, 0.1441056813263437, 0.6185760878702236, 0.01862590438911925, 0.21998363392993409, 0.1996088834646435, 0.3396852929135162, 0.1262810054879988, 0.11439573438324599, 0.21871367747956613, 0.20532304416449068, 0.39311073517828726, 0.0832132213151119, 0.0994732760548464, 0.24657866007628057, 0.2199215076356016, 0.41985015094069394, 0.03198858292881478, 0.08263717256610484, 0.25603027286725916, 0.07279292071716192, 0.47189893430436003, 0.07781312214593171, 0.11797473357609001, 0.2570369303857599, 0.07307912726653958, 0.46871440246815044, 0.07811906707802507, 0.11843858556990898, 0.22098328928603242, 0.238414541112666, 0.42116153606930856, 0.07872178244286142, 0.040485488113471586, 0.23736305307534294, 0.26241141546017815, 0.18488076998330732, 0.11689235779589753, 0.19800134075631623, 0.23114520161055846, 0.2976430045864603, 0.23637210315451582, 0.14780516032634958, 0.08711502573262253, 0.01706479697581091, 0.013651837580648729, 0.8870591737062434, 0.0049643045747813554, 0.07756725898095868, 0.23457156692648223, 0.2796117260399434, 0.2427332064973779, 0.13451591144624303, 0.10851957799820507, 0.24543274195034048, 0.2681579958346313, 0.24892893485561599, 0.08670558405083253, 0.1506859142173743, 0.05832231472372523, 0.09098281096901137, 0.1837152913797345, 0.6153004203353012, 0.05132363695687821, 0.16439232254879763, 0.12487493732072127, 0.18494136286739732, 0.36355994409830245, 0.16281162713967456, 0.3595150297563288, 0.04324063931777151, 0.40893290326235343, 0.05188876718132581, 0.1371345989792182, 0.1303661831961911, 0.35413906466181805, 0.07459096048854232, 0.3527950833917542, 0.08803077318918058], \"Term\": [\"000\", \"000\", \"000\", \"000\", \"000\", \"100\", \"100\", \"100\", \"100\", \"100\", \"105\", \"105\", \"105\", \"105\", \"105\", \"105 number\", \"105 number\", \"105 number\", \"105 number\", \"105 number\", \"106\", \"106\", \"106\", \"106\", \"106\", \"a1\", \"a1\", \"a1\", \"a1\", \"a1\", \"a1 a2\", \"a1 a2\", \"a1 a2\", \"a1 a2\", \"a1 a2\", \"a1 a2 ai\", \"a1 a2 ai\", \"a1 a2 ai\", \"a1 a2 ai\", \"a1 a2 ai\", \"a2\", \"a2\", \"a2\", \"a2\", \"a2\", \"a2 ai\", \"a2 ai\", \"a2 ai\", \"a2 ai\", \"a2 ai\", \"absolute\", \"absolute\", \"absolute\", \"absolute\", \"absolute\", \"ai\", \"ai\", \"ai\", \"ai\", \"ai\", \"answer\", \"answer\", \"answer\", \"answer\", \"answer\", \"array\", \"array\", \"array\", \"array\", \"array\", \"assume\", \"assume\", \"assume\", \"assume\", \"assume\", \"bi\", \"bi\", \"bi\", \"bi\", \"bi\", \"called\", \"called\", \"called\", \"called\", \"called\", \"case\", \"case\", \"case\", \"case\", \"case\", \"case first\", \"case first\", \"case first\", \"case first\", \"case first\", \"case first contains\", \"case first contains\", \"case first contains\", \"case first contains\", \"case first contains\", \"cell\", \"cell\", \"cell\", \"cell\", \"cell\", \"character\", \"character\", \"character\", \"character\", \"character\", \"city\", \"city\", \"city\", \"city\", \"city\", \"column\", \"column\", \"column\", \"column\", \"column\", \"connected\", \"connected\", \"connected\", \"connected\", \"connected\", \"consisting\", \"consisting\", \"consisting\", \"consisting\", \"consisting\", \"consists\", \"consists\", \"consists\", \"consists\", \"consists\", \"contain\", \"contain\", \"contain\", \"contain\", \"contain\", \"contains integer\", \"contains integer\", \"contains integer\", \"contains integer\", \"contains integer\", \"contains one\", \"contains one\", \"contains one\", \"contains one\", \"contains one\", \"contains one integer\", \"contains one integer\", \"contains one integer\", \"contains one integer\", \"contains one integer\", \"contains string\", \"contains string\", \"contains string\", \"contains string\", \"contains string\", \"contains three\", \"contains three\", \"contains three\", \"contains three\", \"contains three\", \"contains two\", \"contains two\", \"contains two\", \"contains two\", \"contains two\", \"contains two integer\", \"contains two integer\", \"contains two integer\", \"contains two integer\", \"contains two integer\", \"coordinate\", \"coordinate\", \"coordinate\", \"coordinate\", \"coordinate\", \"correct\", \"correct\", \"correct\", \"correct\", \"correct\", \"day\", \"day\", \"day\", \"day\", \"day\", \"denoting\", \"denoting\", \"denoting\", \"denoting\", \"denoting\", \"describe\", \"describe\", \"describe\", \"describe\", \"describe\", \"digit\", \"digit\", \"digit\", \"digit\", \"digit\", \"direction\", \"direction\", \"direction\", \"direction\", \"direction\", \"distance\", \"distance\", \"distance\", \"distance\", \"distance\", \"edge\", \"edge\", \"edge\", \"edge\", \"edge\", \"element\", \"element\", \"element\", \"element\", \"element\", \"empty\", \"empty\", \"empty\", \"empty\", \"empty\", \"english\", \"english\", \"english\", \"english\", \"english\", \"equal\", \"equal\", \"equal\", \"equal\", \"equal\", \"example\", \"example\", \"example\", \"example\", \"example\", \"exist\", \"exist\", \"exist\", \"exist\", \"exist\", \"find\", \"find\", \"find\", \"find\", \"find\", \"first contains one\", \"first contains one\", \"first contains one\", \"first contains one\", \"first contains one\", \"first contains three\", \"first contains three\", \"first contains three\", \"first contains three\", \"first contains three\", \"following\", \"following\", \"following\", \"following\", \"following\", \"form\", \"form\", \"form\", \"form\", \"form\", \"four\", \"four\", \"four\", \"four\", \"four\", \"friend\", \"friend\", \"friend\", \"friend\", \"friend\", \"game\", \"game\", \"game\", \"game\", \"game\", \"get\", \"get\", \"get\", \"get\", \"get\", \"give\", \"give\", \"give\", \"give\", \"give\", \"given\", \"given\", \"given\", \"given\", \"given\", \"go\", \"go\", \"go\", \"go\", \"go\", \"good\", \"good\", \"good\", \"good\", \"good\", \"graph\", \"graph\", \"graph\", \"graph\", \"graph\", \"greater\", \"greater\", \"greater\", \"greater\", \"greater\", \"guaranteed\", \"guaranteed\", \"guaranteed\", \"guaranteed\", \"guaranteed\", \"guaranteed sum\", \"guaranteed sum\", \"guaranteed sum\", \"guaranteed sum\", \"guaranteed sum\", \"initial\", \"initial\", \"initial\", \"initial\", \"initial\", \"integer 105 number\", \"integer 105 number\", \"integer 105 number\", \"integer 105 number\", \"integer 105 number\", \"integer a1\", \"integer a1\", \"integer a1\", \"integer a1\", \"integer a1\", \"integer a1 a2\", \"integer a1 a2\", \"integer a1 a2\", \"integer a1 a2\", \"integer a1 a2\", \"integer ai\", \"integer ai\", \"integer ai\", \"integer ai\", \"integer ai\", \"integer length\", \"integer length\", \"integer length\", \"integer length\", \"integer length\", \"integer number\", \"integer number\", \"integer number\", \"integer number\", \"integer number\", \"integer number case\", \"integer number case\", \"integer number case\", \"integer number case\", \"integer number case\", \"know\", \"know\", \"know\", \"know\", \"know\", \"left\", \"left\", \"left\", \"left\", \"left\", \"left right\", \"left right\", \"left right\", \"left right\", \"left right\", \"length\", \"length\", \"length\", \"length\", \"length\", \"letter\", \"letter\", \"letter\", \"letter\", \"letter\", \"line\", \"line\", \"line\", \"line\", \"line\", \"line contain\", \"line contain\", \"line contain\", \"line contain\", \"line contain\", \"line contains\", \"line contains\", \"line contains\", \"line contains\", \"line contains\", \"line contains two\", \"line contains two\", \"line contains two\", \"line contains two\", \"line contains two\", \"located\", \"located\", \"located\", \"located\", \"located\", \"love\", \"love\", \"love\", \"love\", \"love\", \"lowercase\", \"lowercase\", \"lowercase\", \"lowercase\", \"lowercase\", \"make\", \"make\", \"make\", \"make\", \"make\", \"maximum\", \"maximum\", \"maximum\", \"maximum\", \"maximum\", \"minimum\", \"minimum\", \"minimum\", \"minimum\", \"minimum\", \"moment\", \"moment\", \"moment\", \"moment\", \"moment\", \"move\", \"move\", \"move\", \"move\", \"move\", \"next\", \"next\", \"next\", \"next\", \"next\", \"next line\", \"next line\", \"next line\", \"next line\", \"next line\", \"next line contain\", \"next line contain\", \"next line contain\", \"next line contain\", \"next line contain\", \"next line contains\", \"next line contains\", \"next line contains\", \"next line contains\", \"next line contains\", \"non empty\", \"non empty\", \"non empty\", \"non empty\", \"non empty\", \"number case\", \"number case\", \"number case\", \"number case\", \"number case\", \"number query\", \"number query\", \"number query\", \"number query\", \"number query\", \"number vertex\", \"number vertex\", \"number vertex\", \"number vertex\", \"number vertex\", \"numbered\", \"numbered\", \"numbered\", \"numbered\", \"numbered\", \"one\", \"one\", \"one\", \"one\", \"one\", \"one integer\", \"one integer\", \"one integer\", \"one integer\", \"one integer\", \"one integer number\", \"one integer number\", \"one integer number\", \"one integer number\", \"one integer number\", \"operation\", \"operation\", \"operation\", \"operation\", \"operation\", \"order\", \"order\", \"order\", \"order\", \"order\", \"pair\", \"pair\", \"pair\", \"pair\", \"pair\", \"part\", \"part\", \"part\", \"part\", \"part\", \"path\", \"path\", \"path\", \"path\", \"path\", \"people\", \"people\", \"people\", \"people\", \"people\", \"perform\", \"perform\", \"perform\", \"perform\", \"perform\", \"picture\", \"picture\", \"picture\", \"picture\", \"picture\", \"place\", \"place\", \"place\", \"place\", \"place\", \"play\", \"play\", \"play\", \"play\", \"play\", \"point\", \"point\", \"point\", \"point\", \"point\", \"position\", \"position\", \"position\", \"position\", \"position\", \"positive\", \"positive\", \"positive\", \"positive\", \"positive\", \"positive integer\", \"positive integer\", \"positive integer\", \"positive integer\", \"positive integer\", \"possible\", \"possible\", \"possible\", \"possible\", \"possible\", \"problem\", \"problem\", \"problem\", \"problem\", \"problem\", \"program\", \"program\", \"program\", \"program\", \"program\", \"put\", \"put\", \"put\", \"put\", \"put\", \"query\", \"query\", \"query\", \"query\", \"query\", \"required\", \"required\", \"required\", \"required\", \"required\", \"result\", \"result\", \"result\", \"result\", \"result\", \"resulting\", \"resulting\", \"resulting\", \"resulting\", \"resulting\", \"right\", \"right\", \"right\", \"right\", \"right\", \"row\", \"row\", \"row\", \"row\", \"row\", \"rule\", \"rule\", \"rule\", \"rule\", \"rule\", \"sample\", \"sample\", \"sample\", \"sample\", \"sample\", \"second\", \"second\", \"second\", \"second\", \"second\", \"second contains\", \"second contains\", \"second contains\", \"second contains\", \"second contains\", \"second contains integer\", \"second contains integer\", \"second contains integer\", \"second contains integer\", \"second contains integer\", \"see\", \"see\", \"see\", \"see\", \"see\", \"segment\", \"segment\", \"segment\", \"segment\", \"segment\", \"sequence\", \"sequence\", \"sequence\", \"sequence\", \"sequence\", \"set\", \"set\", \"set\", \"set\", \"set\", \"show\", \"show\", \"show\", \"show\", \"show\", \"side\", \"side\", \"side\", \"side\", \"side\", \"single\", \"single\", \"single\", \"single\", \"single\", \"single integer\", \"single integer\", \"single integer\", \"single integer\", \"single integer\", \"size\", \"size\", \"size\", \"size\", \"size\", \"solve\", \"solve\", \"solve\", \"solve\", \"solve\", \"square\", \"square\", \"square\", \"square\", \"square\", \"start\", \"start\", \"start\", \"start\", \"start\", \"string\", \"string\", \"string\", \"string\", \"string\", \"string consisting\", \"string consisting\", \"string consisting\", \"string consisting\", \"string consisting\", \"string length\", \"string length\", \"string length\", \"string length\", \"string length\", \"sum\", \"sum\", \"sum\", \"sum\", \"sum\", \"th\", \"th\", \"th\", \"th\", \"th\", \"th contains\", \"th contains\", \"th contains\", \"th contains\", \"th contains\", \"third\", \"third\", \"third\", \"third\", \"third\", \"three\", \"three\", \"three\", \"three\", \"three\", \"time\", \"time\", \"time\", \"time\", \"time\", \"tree\", \"tree\", \"tree\", \"tree\", \"tree\", \"turn\", \"turn\", \"turn\", \"turn\", \"turn\", \"two\", \"two\", \"two\", \"two\", \"two\", \"two integer\", \"two integer\", \"two integer\", \"two integer\", \"two integer\", \"two integer number\", \"two integer number\", \"two integer number\", \"two integer number\", \"two integer number\", \"two space\", \"two space\", \"two space\", \"two space\", \"two space\", \"two space separated\", \"two space separated\", \"two space separated\", \"two space separated\", \"two space separated\", \"type\", \"type\", \"type\", \"type\", \"type\", \"using\", \"using\", \"using\", \"using\", \"using\", \"value\", \"value\", \"value\", \"value\", \"value\", \"vertex\", \"vertex\", \"vertex\", \"vertex\", \"vertex\", \"want\", \"want\", \"want\", \"want\", \"want\", \"way\", \"way\", \"way\", \"way\", \"way\", \"word\", \"word\", \"word\", \"word\", \"word\", \"written\", \"written\", \"written\", \"written\", \"written\", \"xi\", \"xi\", \"xi\", \"xi\", \"xi\", \"zero\", \"zero\", \"zero\", \"zero\", \"zero\"]}, \"R\": 30, \"lambda.step\": 0.01, \"plot.opts\": {\"xlab\": \"PC1\", \"ylab\": \"PC2\"}, \"topic.order\": [3, 1, 4, 5, 2]};\n",
       "\n",
       "function LDAvis_load_lib(url, callback){\n",
       "  var s = document.createElement('script');\n",
       "  s.src = url;\n",
       "  s.async = true;\n",
       "  s.onreadystatechange = s.onload = callback;\n",
       "  s.onerror = function(){console.warn(\"failed to load library \" + url);};\n",
       "  document.getElementsByTagName(\"head\")[0].appendChild(s);\n",
       "}\n",
       "\n",
       "if(typeof(LDAvis) !== \"undefined\"){\n",
       "   // already loaded: just create the visualization\n",
       "   !function(LDAvis){\n",
       "       new LDAvis(\"#\" + \"ldavis_el1321140318253020544467394929\", ldavis_el1321140318253020544467394929_data);\n",
       "   }(LDAvis);\n",
       "}else if(typeof define === \"function\" && define.amd){\n",
       "   // require.js is available: use it to load d3/LDAvis\n",
       "   require.config({paths: {d3: \"https://d3js.org/d3.v5\"}});\n",
       "   require([\"d3\"], function(d3){\n",
       "      window.d3 = d3;\n",
       "      LDAvis_load_lib(\"https://cdn.jsdelivr.net/gh/bmabey/pyLDAvis@3.4.0/pyLDAvis/js/ldavis.v3.0.0.js\", function(){\n",
       "        new LDAvis(\"#\" + \"ldavis_el1321140318253020544467394929\", ldavis_el1321140318253020544467394929_data);\n",
       "      });\n",
       "    });\n",
       "}else{\n",
       "    // require.js not available: dynamically load d3 & LDAvis\n",
       "    LDAvis_load_lib(\"https://d3js.org/d3.v5.js\", function(){\n",
       "         LDAvis_load_lib(\"https://cdn.jsdelivr.net/gh/bmabey/pyLDAvis@3.4.0/pyLDAvis/js/ldavis.v3.0.0.js\", function(){\n",
       "                 new LDAvis(\"#\" + \"ldavis_el1321140318253020544467394929\", ldavis_el1321140318253020544467394929_data);\n",
       "            })\n",
       "         });\n",
       "}\n",
       "</script>"
      ],
      "text/plain": [
       "PreparedData(topic_coordinates=              x         y  topics  cluster       Freq\n",
       "topic                                                \n",
       "2     -0.060927  0.027256       1        1  24.332551\n",
       "0     -0.026323 -0.078057       2        1  24.230313\n",
       "3     -0.027248  0.034179       3        1  22.750294\n",
       "4      0.069196 -0.009027       4        1  17.240112\n",
       "1      0.045301  0.025648       5        1  11.446729, topic_info=         Term         Freq        Total Category  logprob  loglift\n",
       "218    string  6735.000000  6735.000000  Default  30.0000  30.0000\n",
       "257     array  4988.000000  4988.000000  Default  29.0000  29.0000\n",
       "93       city  2226.000000  2226.000000  Default  28.0000  28.0000\n",
       "101      cell  3717.000000  3717.000000  Default  27.0000  27.0000\n",
       "111  sequence  4854.000000  4854.000000  Default  26.0000  26.0000\n",
       "..        ...          ...          ...      ...      ...      ...\n",
       "49      order   418.201694  3680.201779   Topic5  -4.8874  -0.0073\n",
       "14     single   461.300391  5022.842369   Topic5  -4.7893  -0.2202\n",
       "11        set   359.467000  2868.270060   Topic5  -5.0388   0.0906\n",
       "159    answer   413.961715  4989.645780   Topic5  -4.8976  -0.3219\n",
       "36    example   451.456251  7286.571229   Topic5  -4.8109  -0.6138\n",
       "\n",
       "[282 rows x 6 columns], token_table=      Topic      Freq  Term\n",
       "term                       \n",
       "309       1  0.227599   000\n",
       "309       2  0.230517   000\n",
       "309       3  0.214468   000\n",
       "309       4  0.103587   000\n",
       "309       5  0.224681   000\n",
       "...     ...       ...   ...\n",
       "59        1  0.130366  zero\n",
       "59        2  0.354139  zero\n",
       "59        3  0.074591  zero\n",
       "59        4  0.352795  zero\n",
       "59        5  0.088031  zero\n",
       "\n",
       "[855 rows x 3 columns], R=30, lambda_step=0.01, plot_opts={'xlab': 'PC1', 'ylab': 'PC2'}, topic_order=[3, 1, 4, 5, 2])"
      ]
     },
     "execution_count": 24,
     "metadata": {},
     "output_type": "execute_result"
    }
   ],
   "source": [
    "import pyLDAvis\n",
    "import pyLDAvis.gensim\n",
    "pyLDAvis.enable_notebook()\n",
    "corpus = X[0]\n",
    "id2word = X[1]\n",
    "\n",
    "panel = pyLDAvis.gensim.prepare(lda, corpus, dictionary=id2word)\n",
    "panel\n",
    "# todo \n",
    "# mudar para o modelo do gensim"
   ]
  }
 ],
 "metadata": {
  "kernelspec": {
   "display_name": "env",
   "language": "python",
   "name": "python3"
  },
  "language_info": {
   "codemirror_mode": {
    "name": "ipython",
    "version": 3
   },
   "file_extension": ".py",
   "mimetype": "text/x-python",
   "name": "python",
   "nbconvert_exporter": "python",
   "pygments_lexer": "ipython3",
   "version": "3.10.6"
  }
 },
 "nbformat": 4,
 "nbformat_minor": 5
}
