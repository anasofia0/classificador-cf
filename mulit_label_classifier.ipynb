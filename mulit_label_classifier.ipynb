{
 "cells": [
  {
   "cell_type": "code",
   "execution_count": 19,
   "metadata": {},
   "outputs": [
    {
     "name": "stderr",
     "output_type": "stream",
     "text": [
      "[nltk_data] Downloading package wordnet to /home/anasofia/nltk_data...\n",
      "[nltk_data]   Package wordnet is already up-to-date!\n",
      "[nltk_data] Downloading package stopwords to\n",
      "[nltk_data]     /home/anasofia/nltk_data...\n",
      "[nltk_data]   Package stopwords is already up-to-date!\n"
     ]
    },
    {
     "data": {
      "text/plain": [
       "True"
      ]
     },
     "execution_count": 19,
     "metadata": {},
     "output_type": "execute_result"
    }
   ],
   "source": [
    "import pandas as pd\n",
    "import numpy as np\n",
    "from matplotlib import pyplot as plt\n",
    "import nltk\n",
    "from nltk.corpus import stopwords\n",
    "from nltk.stem import WordNetLemmatizer\n",
    "import re\n",
    "from sklearn.feature_extraction.text import CountVectorizer\n",
    "from sklearn.feature_extraction.text import TfidfTransformer\n",
    "from sklearn.svm import LinearSVC\n",
    "from sklearn.multiclass import OneVsRestClassifier\n",
    "from sklearn.model_selection import train_test_split\n",
    "from sklearn.metrics import  classification_report, confusion_matrix, ConfusionMatrixDisplay\n",
    "\n",
    "nltk.download('wordnet')\n",
    "nltk.download('stopwords')"
   ]
  },
  {
   "attachments": {},
   "cell_type": "markdown",
   "metadata": {},
   "source": [
    "importando os dados"
   ]
  },
  {
   "cell_type": "code",
   "execution_count": 2,
   "metadata": {},
   "outputs": [
    {
     "data": {
      "text/html": [
       "<div>\n",
       "<style scoped>\n",
       "    .dataframe tbody tr th:only-of-type {\n",
       "        vertical-align: middle;\n",
       "    }\n",
       "\n",
       "    .dataframe tbody tr th {\n",
       "        vertical-align: top;\n",
       "    }\n",
       "\n",
       "    .dataframe thead th {\n",
       "        text-align: right;\n",
       "    }\n",
       "</style>\n",
       "<table border=\"1\" class=\"dataframe\">\n",
       "  <thead>\n",
       "    <tr style=\"text-align: right;\">\n",
       "      <th></th>\n",
       "      <th>contest</th>\n",
       "      <th>problem_name</th>\n",
       "      <th>problem_statement</th>\n",
       "      <th>problem_tags</th>\n",
       "    </tr>\n",
       "  </thead>\n",
       "  <tbody>\n",
       "    <tr>\n",
       "      <th>0</th>\n",
       "      <td>325</td>\n",
       "      <td>A</td>\n",
       "      <td>You are given n rectangles. The corners of rec...</td>\n",
       "      <td>implementation,*1500</td>\n",
       "    </tr>\n",
       "    <tr>\n",
       "      <th>1</th>\n",
       "      <td>325</td>\n",
       "      <td>B</td>\n",
       "      <td>Daniel is organizing a football tournament. He...</td>\n",
       "      <td>binarysearch,math,*1800</td>\n",
       "    </tr>\n",
       "    <tr>\n",
       "      <th>2</th>\n",
       "      <td>325</td>\n",
       "      <td>C</td>\n",
       "      <td>Piegirl has found a monster and a book about m...</td>\n",
       "      <td>dfsandsimilar,graphs,shortestpaths,*2600</td>\n",
       "    </tr>\n",
       "    <tr>\n",
       "      <th>3</th>\n",
       "      <td>325</td>\n",
       "      <td>D</td>\n",
       "      <td>In a far away land, there exists a planet shap...</td>\n",
       "      <td>dsu,*2900</td>\n",
       "    </tr>\n",
       "    <tr>\n",
       "      <th>4</th>\n",
       "      <td>325</td>\n",
       "      <td>E</td>\n",
       "      <td>Piegirl found the red button. You have one las...</td>\n",
       "      <td>combinatorics,dfsandsimilar,dsu,graphs,greedy,...</td>\n",
       "    </tr>\n",
       "  </tbody>\n",
       "</table>\n",
       "</div>"
      ],
      "text/plain": [
       "   contest problem_name                                  problem_statement  \\\n",
       "0      325            A  You are given n rectangles. The corners of rec...   \n",
       "1      325            B  Daniel is organizing a football tournament. He...   \n",
       "2      325            C  Piegirl has found a monster and a book about m...   \n",
       "3      325            D  In a far away land, there exists a planet shap...   \n",
       "4      325            E  Piegirl found the red button. You have one las...   \n",
       "\n",
       "                                        problem_tags  \n",
       "0                               implementation,*1500  \n",
       "1                            binarysearch,math,*1800  \n",
       "2           dfsandsimilar,graphs,shortestpaths,*2600  \n",
       "3                                          dsu,*2900  \n",
       "4  combinatorics,dfsandsimilar,dsu,graphs,greedy,...  "
      ]
     },
     "execution_count": 2,
     "metadata": {},
     "output_type": "execute_result"
    }
   ],
   "source": [
    "data = pd.read_csv('data.csv')\n",
    "data.fillna('', inplace=True)\n",
    "data.head()"
   ]
  },
  {
   "attachments": {},
   "cell_type": "markdown",
   "metadata": {},
   "source": [
    "pre-processando"
   ]
  },
  {
   "cell_type": "code",
   "execution_count": 3,
   "metadata": {},
   "outputs": [
    {
     "name": "stdout",
     "output_type": "stream",
     "text": [
      "At first, let's define function $$$f(x)$$$ as follows: $$$$$$ \\begin{matrix} f(x) & = & \\left\\{ \\beg\n",
      "------------\n",
      "first let define function follows f x & = & \\ & x \\\\ x - 1 & see choose value apply function apply e\n",
      "['implementation']\n"
     ]
    }
   ],
   "source": [
    "sw = stopwords.words('english')\n",
    "sw += ['input', 'output', 'th', 'print', 'test', 'case', 'line']\n",
    "lemma = WordNetLemmatizer()\n",
    "text = data.problem_statement\n",
    "\n",
    "# Problem_statement\n",
    "print(text[8341][:100])\n",
    "print('------------')\n",
    "text = text.apply(lambda x: re.sub(r'\\${1,3}(.*?)\\${1,3}', ' ',x))\n",
    "text = text.apply(lambda x: re.sub(r'(?:\\\\)[a-zA-Z]+', ' ',x))\n",
    "text = text.apply(lambda x: re.sub(r'\\{(.*?)\\}', ' ',x))\n",
    "text = text.apply(lambda x: re.sub(r\"[\\,|\\.|\\(|\\)|\\!|\\?|\\:|\\']\",' ',x)) # removendo caracteres especiais\n",
    "text = text.apply(lambda x: [i for i in x.split() if i.lower() not in sw]) # removendo stop-words\n",
    "text = text.apply(lambda x: ' '.join([lemma.lemmatize(i) for i in x])) # lemmatizando todo\n",
    "\n",
    "# Topics\n",
    "topics = data.problem_tags\n",
    "topics = topics.apply(lambda x: re.sub('[*][0-9]+','',x)) # remove os ratings *800 etc\n",
    "topics = topics.apply(lambda x: [i for i in x.split(',') if i != '']) # tira strings vazias\n",
    "\n",
    "print(text[8341][:100])\n",
    "print(topics[0])\n"
   ]
  },
  {
   "attachments": {},
   "cell_type": "markdown",
   "metadata": {},
   "source": [
    "coletando topicos"
   ]
  },
  {
   "cell_type": "code",
   "execution_count": 4,
   "metadata": {},
   "outputs": [
    {
     "name": "stdout",
     "output_type": "stream",
     "text": [
      "('implementation', 2221)\n",
      "('math', 2028)\n",
      "('greedy', 1950)\n",
      "('dp', 1673)\n",
      "('datastructures', 1290)\n",
      "('constructivealgorithms', 1181)\n",
      "('bruteforce', 1173)\n",
      "('graphs', 901)\n",
      "('binarysearch', 786)\n",
      "('sortings', 759)\n",
      "('dfsandsimilar', 718)\n",
      "('trees', 617)\n",
      "('strings', 572)\n",
      "('numbertheory', 554)\n",
      "('combinatorics', 461)\n",
      "('*specialproblem', 436)\n",
      "('twopointers', 361)\n",
      "('bitmasks', 349)\n",
      "('geometry', 343)\n",
      "('dsu', 247)\n",
      "('shortestpaths', 220)\n",
      "('probabilities', 196)\n",
      "('divideandconquer', 189)\n",
      "('games', 161)\n",
      "('hashing', 160)\n",
      "('interactive', 145)\n",
      "('flows', 109)\n",
      "('matrices', 104)\n",
      "('stringsuffixstructures', 75)\n",
      "('graphmatchings', 65)\n",
      "('fft', 61)\n",
      "('ternarysearch', 52)\n",
      "('meet-in-the-middle', 36)\n",
      "('expressionparsing', 35)\n",
      "('2-sat', 25)\n",
      "('chineseremaindertheorem', 13)\n",
      "('schedules', 7)\n"
     ]
    }
   ],
   "source": [
    "lista = topics.to_list()\n",
    "\n",
    "d = dict()\n",
    "for x in lista:\n",
    "    for y in x:\n",
    "        if y not in d:\n",
    "            d[y] = 1\n",
    "        else:   \n",
    "            d[y] += 1\n",
    "\n",
    "labelfreq = sorted(d.items(), key=lambda item:item[1], reverse=True)\n",
    "\n",
    "for i in labelfreq:\n",
    "    print(i)"
   ]
  },
  {
   "attachments": {},
   "cell_type": "markdown",
   "metadata": {},
   "source": [
    "vetorizando e fazendo "
   ]
  },
  {
   "cell_type": "code",
   "execution_count": 5,
   "metadata": {},
   "outputs": [],
   "source": [
    "# parametros\n",
    "\n",
    "ngram_range = (1,3)\n",
    "max_df = 0.9\n",
    "min_df = 4\n",
    "\n",
    "norm = 'l2'\n",
    "smooth_idf = True"
   ]
  },
  {
   "cell_type": "code",
   "execution_count": 6,
   "metadata": {},
   "outputs": [],
   "source": [
    "vec = CountVectorizer(ngram_range=ngram_range,\n",
    "                      max_df=max_df,\n",
    "                      min_df=min_df)\n",
    "\n",
    "tfidf = TfidfTransformer(norm=norm,\n",
    "                         smooth_idf=smooth_idf)\n",
    "\n",
    "X = vec.fit_transform(text)\n",
    "X_tfidf = tfidf.fit(X)\n"
   ]
  },
  {
   "attachments": {},
   "cell_type": "markdown",
   "metadata": {},
   "source": [
    "mapeando as labels e criando matrix de indicacao"
   ]
  },
  {
   "cell_type": "code",
   "execution_count": 7,
   "metadata": {},
   "outputs": [
    {
     "data": {
      "text/plain": [
       "{'implementation': 0,\n",
       " 'math': 1,\n",
       " 'greedy': 2,\n",
       " 'dp': 3,\n",
       " 'datastructures': 4,\n",
       " 'constructivealgorithms': 5,\n",
       " 'bruteforce': 6,\n",
       " 'graphs': 7,\n",
       " 'binarysearch': 8,\n",
       " 'sortings': 9,\n",
       " 'dfsandsimilar': 10,\n",
       " 'trees': 11,\n",
       " 'strings': 12,\n",
       " 'numbertheory': 13,\n",
       " 'combinatorics': 14,\n",
       " '*specialproblem': 15,\n",
       " 'twopointers': 16,\n",
       " 'bitmasks': 17,\n",
       " 'geometry': 18,\n",
       " 'dsu': 19,\n",
       " 'shortestpaths': 20,\n",
       " 'probabilities': 21,\n",
       " 'divideandconquer': 22,\n",
       " 'games': 23,\n",
       " 'hashing': 24,\n",
       " 'interactive': 25,\n",
       " 'flows': 26,\n",
       " 'matrices': 27,\n",
       " 'stringsuffixstructures': 28,\n",
       " 'graphmatchings': 29,\n",
       " 'fft': 30,\n",
       " 'ternarysearch': 31,\n",
       " 'meet-in-the-middle': 32,\n",
       " 'expressionparsing': 33,\n",
       " '2-sat': 34,\n",
       " 'chineseremaindertheorem': 35,\n",
       " 'schedules': 36}"
      ]
     },
     "execution_count": 7,
     "metadata": {},
     "output_type": "execute_result"
    }
   ],
   "source": [
    "aux = {}\n",
    "for i, j in enumerate(labelfreq):\n",
    "    aux[j[0]] = i\n",
    "aux"
   ]
  },
  {
   "cell_type": "code",
   "execution_count": 53,
   "metadata": {},
   "outputs": [],
   "source": [
    "def get_matrix(n_labels, topics):\n",
    "    n_docs = len(topics)\n",
    "\n",
    "    labels = [i[0] for i in labelfreq][:n_labels-1]\n",
    "    labels.append('outros')\n",
    "\n",
    "    ind_matrix = np.zeros(shape=(n_docs, n_labels),\n",
    "                          dtype=np.int8)\n",
    "    \n",
    "    for i in range(n_docs):\n",
    "        achou = False\n",
    "        for j in topics[i]:\n",
    "            if j in labels:\n",
    "                ind_matrix[i][aux[j]] = 1\n",
    "                achou = True\n",
    "        if not achou:\n",
    "            ind_matrix[i][-1] = 1\n",
    "\n",
    "    return ind_matrix, labels"
   ]
  },
  {
   "attachments": {},
   "cell_type": "markdown",
   "metadata": {},
   "source": [
    "treinando a svm\n",
    "\n",
    "[]()"
   ]
  },
  {
   "cell_type": "code",
   "execution_count": 81,
   "metadata": {},
   "outputs": [],
   "source": [
    "# parametros\n",
    "\n",
    "n_labels = 37"
   ]
  },
  {
   "cell_type": "code",
   "execution_count": 82,
   "metadata": {},
   "outputs": [],
   "source": [
    "Y, labels = get_matrix(n_labels, topics)"
   ]
  },
  {
   "cell_type": "code",
   "execution_count": 83,
   "metadata": {},
   "outputs": [],
   "source": [
    "X_train, X_test, Y_train, Y_test = train_test_split(X, Y, test_size=0.3, random_state=0)\n",
    "\n",
    "# todo cross validation"
   ]
  },
  {
   "cell_type": "code",
   "execution_count": 84,
   "metadata": {},
   "outputs": [
    {
     "name": "stderr",
     "output_type": "stream",
     "text": [
      "/home/anasofia/Documents/UnB/PIBIC/classificador-cf/env/lib/python3.8/site-packages/sklearn/svm/_base.py:1244: ConvergenceWarning: Liblinear failed to converge, increase the number of iterations.\n",
      "  warnings.warn(\n",
      "/home/anasofia/Documents/UnB/PIBIC/classificador-cf/env/lib/python3.8/site-packages/sklearn/svm/_base.py:1244: ConvergenceWarning: Liblinear failed to converge, increase the number of iterations.\n",
      "  warnings.warn(\n",
      "/home/anasofia/Documents/UnB/PIBIC/classificador-cf/env/lib/python3.8/site-packages/sklearn/svm/_base.py:1244: ConvergenceWarning: Liblinear failed to converge, increase the number of iterations.\n",
      "  warnings.warn(\n",
      "/home/anasofia/Documents/UnB/PIBIC/classificador-cf/env/lib/python3.8/site-packages/sklearn/svm/_base.py:1244: ConvergenceWarning: Liblinear failed to converge, increase the number of iterations.\n",
      "  warnings.warn(\n",
      "/home/anasofia/Documents/UnB/PIBIC/classificador-cf/env/lib/python3.8/site-packages/sklearn/svm/_base.py:1244: ConvergenceWarning: Liblinear failed to converge, increase the number of iterations.\n",
      "  warnings.warn(\n",
      "/home/anasofia/Documents/UnB/PIBIC/classificador-cf/env/lib/python3.8/site-packages/sklearn/svm/_base.py:1244: ConvergenceWarning: Liblinear failed to converge, increase the number of iterations.\n",
      "  warnings.warn(\n",
      "/home/anasofia/Documents/UnB/PIBIC/classificador-cf/env/lib/python3.8/site-packages/sklearn/svm/_base.py:1244: ConvergenceWarning: Liblinear failed to converge, increase the number of iterations.\n",
      "  warnings.warn(\n",
      "/home/anasofia/Documents/UnB/PIBIC/classificador-cf/env/lib/python3.8/site-packages/sklearn/svm/_base.py:1244: ConvergenceWarning: Liblinear failed to converge, increase the number of iterations.\n",
      "  warnings.warn(\n",
      "/home/anasofia/Documents/UnB/PIBIC/classificador-cf/env/lib/python3.8/site-packages/sklearn/svm/_base.py:1244: ConvergenceWarning: Liblinear failed to converge, increase the number of iterations.\n",
      "  warnings.warn(\n",
      "/home/anasofia/Documents/UnB/PIBIC/classificador-cf/env/lib/python3.8/site-packages/sklearn/svm/_base.py:1244: ConvergenceWarning: Liblinear failed to converge, increase the number of iterations.\n",
      "  warnings.warn(\n",
      "/home/anasofia/Documents/UnB/PIBIC/classificador-cf/env/lib/python3.8/site-packages/sklearn/svm/_base.py:1244: ConvergenceWarning: Liblinear failed to converge, increase the number of iterations.\n",
      "  warnings.warn(\n",
      "/home/anasofia/Documents/UnB/PIBIC/classificador-cf/env/lib/python3.8/site-packages/sklearn/svm/_base.py:1244: ConvergenceWarning: Liblinear failed to converge, increase the number of iterations.\n",
      "  warnings.warn(\n",
      "/home/anasofia/Documents/UnB/PIBIC/classificador-cf/env/lib/python3.8/site-packages/sklearn/svm/_base.py:1244: ConvergenceWarning: Liblinear failed to converge, increase the number of iterations.\n",
      "  warnings.warn(\n",
      "/home/anasofia/Documents/UnB/PIBIC/classificador-cf/env/lib/python3.8/site-packages/sklearn/svm/_base.py:1244: ConvergenceWarning: Liblinear failed to converge, increase the number of iterations.\n",
      "  warnings.warn(\n",
      "/home/anasofia/Documents/UnB/PIBIC/classificador-cf/env/lib/python3.8/site-packages/sklearn/svm/_base.py:1244: ConvergenceWarning: Liblinear failed to converge, increase the number of iterations.\n",
      "  warnings.warn(\n",
      "/home/anasofia/Documents/UnB/PIBIC/classificador-cf/env/lib/python3.8/site-packages/sklearn/svm/_base.py:1244: ConvergenceWarning: Liblinear failed to converge, increase the number of iterations.\n",
      "  warnings.warn(\n",
      "/home/anasofia/Documents/UnB/PIBIC/classificador-cf/env/lib/python3.8/site-packages/sklearn/svm/_base.py:1244: ConvergenceWarning: Liblinear failed to converge, increase the number of iterations.\n",
      "  warnings.warn(\n",
      "/home/anasofia/Documents/UnB/PIBIC/classificador-cf/env/lib/python3.8/site-packages/sklearn/svm/_base.py:1244: ConvergenceWarning: Liblinear failed to converge, increase the number of iterations.\n",
      "  warnings.warn(\n",
      "/home/anasofia/Documents/UnB/PIBIC/classificador-cf/env/lib/python3.8/site-packages/sklearn/svm/_base.py:1244: ConvergenceWarning: Liblinear failed to converge, increase the number of iterations.\n",
      "  warnings.warn(\n",
      "/home/anasofia/Documents/UnB/PIBIC/classificador-cf/env/lib/python3.8/site-packages/sklearn/svm/_base.py:1244: ConvergenceWarning: Liblinear failed to converge, increase the number of iterations.\n",
      "  warnings.warn(\n",
      "/home/anasofia/Documents/UnB/PIBIC/classificador-cf/env/lib/python3.8/site-packages/sklearn/svm/_base.py:1244: ConvergenceWarning: Liblinear failed to converge, increase the number of iterations.\n",
      "  warnings.warn(\n",
      "/home/anasofia/Documents/UnB/PIBIC/classificador-cf/env/lib/python3.8/site-packages/sklearn/svm/_base.py:1244: ConvergenceWarning: Liblinear failed to converge, increase the number of iterations.\n",
      "  warnings.warn(\n",
      "/home/anasofia/Documents/UnB/PIBIC/classificador-cf/env/lib/python3.8/site-packages/sklearn/svm/_base.py:1244: ConvergenceWarning: Liblinear failed to converge, increase the number of iterations.\n",
      "  warnings.warn(\n",
      "/home/anasofia/Documents/UnB/PIBIC/classificador-cf/env/lib/python3.8/site-packages/sklearn/svm/_base.py:1244: ConvergenceWarning: Liblinear failed to converge, increase the number of iterations.\n",
      "  warnings.warn(\n",
      "/home/anasofia/Documents/UnB/PIBIC/classificador-cf/env/lib/python3.8/site-packages/sklearn/svm/_base.py:1244: ConvergenceWarning: Liblinear failed to converge, increase the number of iterations.\n",
      "  warnings.warn(\n",
      "/home/anasofia/Documents/UnB/PIBIC/classificador-cf/env/lib/python3.8/site-packages/sklearn/svm/_base.py:1244: ConvergenceWarning: Liblinear failed to converge, increase the number of iterations.\n",
      "  warnings.warn(\n",
      "/home/anasofia/Documents/UnB/PIBIC/classificador-cf/env/lib/python3.8/site-packages/sklearn/svm/_base.py:1244: ConvergenceWarning: Liblinear failed to converge, increase the number of iterations.\n",
      "  warnings.warn(\n",
      "/home/anasofia/Documents/UnB/PIBIC/classificador-cf/env/lib/python3.8/site-packages/sklearn/svm/_base.py:1244: ConvergenceWarning: Liblinear failed to converge, increase the number of iterations.\n",
      "  warnings.warn(\n",
      "/home/anasofia/Documents/UnB/PIBIC/classificador-cf/env/lib/python3.8/site-packages/sklearn/svm/_base.py:1244: ConvergenceWarning: Liblinear failed to converge, increase the number of iterations.\n",
      "  warnings.warn(\n",
      "/home/anasofia/Documents/UnB/PIBIC/classificador-cf/env/lib/python3.8/site-packages/sklearn/svm/_base.py:1244: ConvergenceWarning: Liblinear failed to converge, increase the number of iterations.\n",
      "  warnings.warn(\n",
      "/home/anasofia/Documents/UnB/PIBIC/classificador-cf/env/lib/python3.8/site-packages/sklearn/svm/_base.py:1244: ConvergenceWarning: Liblinear failed to converge, increase the number of iterations.\n",
      "  warnings.warn(\n",
      "/home/anasofia/Documents/UnB/PIBIC/classificador-cf/env/lib/python3.8/site-packages/sklearn/svm/_base.py:1244: ConvergenceWarning: Liblinear failed to converge, increase the number of iterations.\n",
      "  warnings.warn(\n",
      "/home/anasofia/Documents/UnB/PIBIC/classificador-cf/env/lib/python3.8/site-packages/sklearn/svm/_base.py:1244: ConvergenceWarning: Liblinear failed to converge, increase the number of iterations.\n",
      "  warnings.warn(\n",
      "/home/anasofia/Documents/UnB/PIBIC/classificador-cf/env/lib/python3.8/site-packages/sklearn/svm/_base.py:1244: ConvergenceWarning: Liblinear failed to converge, increase the number of iterations.\n",
      "  warnings.warn(\n",
      "/home/anasofia/Documents/UnB/PIBIC/classificador-cf/env/lib/python3.8/site-packages/sklearn/svm/_base.py:1244: ConvergenceWarning: Liblinear failed to converge, increase the number of iterations.\n",
      "  warnings.warn(\n",
      "/home/anasofia/Documents/UnB/PIBIC/classificador-cf/env/lib/python3.8/site-packages/sklearn/svm/_base.py:1244: ConvergenceWarning: Liblinear failed to converge, increase the number of iterations.\n",
      "  warnings.warn(\n",
      "/home/anasofia/Documents/UnB/PIBIC/classificador-cf/env/lib/python3.8/site-packages/sklearn/svm/_base.py:1244: ConvergenceWarning: Liblinear failed to converge, increase the number of iterations.\n",
      "  warnings.warn(\n"
     ]
    },
    {
     "data": {
      "text/html": [
       "<style>#sk-container-id-4 {color: black;background-color: white;}#sk-container-id-4 pre{padding: 0;}#sk-container-id-4 div.sk-toggleable {background-color: white;}#sk-container-id-4 label.sk-toggleable__label {cursor: pointer;display: block;width: 100%;margin-bottom: 0;padding: 0.3em;box-sizing: border-box;text-align: center;}#sk-container-id-4 label.sk-toggleable__label-arrow:before {content: \"▸\";float: left;margin-right: 0.25em;color: #696969;}#sk-container-id-4 label.sk-toggleable__label-arrow:hover:before {color: black;}#sk-container-id-4 div.sk-estimator:hover label.sk-toggleable__label-arrow:before {color: black;}#sk-container-id-4 div.sk-toggleable__content {max-height: 0;max-width: 0;overflow: hidden;text-align: left;background-color: #f0f8ff;}#sk-container-id-4 div.sk-toggleable__content pre {margin: 0.2em;color: black;border-radius: 0.25em;background-color: #f0f8ff;}#sk-container-id-4 input.sk-toggleable__control:checked~div.sk-toggleable__content {max-height: 200px;max-width: 100%;overflow: auto;}#sk-container-id-4 input.sk-toggleable__control:checked~label.sk-toggleable__label-arrow:before {content: \"▾\";}#sk-container-id-4 div.sk-estimator input.sk-toggleable__control:checked~label.sk-toggleable__label {background-color: #d4ebff;}#sk-container-id-4 div.sk-label input.sk-toggleable__control:checked~label.sk-toggleable__label {background-color: #d4ebff;}#sk-container-id-4 input.sk-hidden--visually {border: 0;clip: rect(1px 1px 1px 1px);clip: rect(1px, 1px, 1px, 1px);height: 1px;margin: -1px;overflow: hidden;padding: 0;position: absolute;width: 1px;}#sk-container-id-4 div.sk-estimator {font-family: monospace;background-color: #f0f8ff;border: 1px dotted black;border-radius: 0.25em;box-sizing: border-box;margin-bottom: 0.5em;}#sk-container-id-4 div.sk-estimator:hover {background-color: #d4ebff;}#sk-container-id-4 div.sk-parallel-item::after {content: \"\";width: 100%;border-bottom: 1px solid gray;flex-grow: 1;}#sk-container-id-4 div.sk-label:hover label.sk-toggleable__label {background-color: #d4ebff;}#sk-container-id-4 div.sk-serial::before {content: \"\";position: absolute;border-left: 1px solid gray;box-sizing: border-box;top: 0;bottom: 0;left: 50%;z-index: 0;}#sk-container-id-4 div.sk-serial {display: flex;flex-direction: column;align-items: center;background-color: white;padding-right: 0.2em;padding-left: 0.2em;position: relative;}#sk-container-id-4 div.sk-item {position: relative;z-index: 1;}#sk-container-id-4 div.sk-parallel {display: flex;align-items: stretch;justify-content: center;background-color: white;position: relative;}#sk-container-id-4 div.sk-item::before, #sk-container-id-4 div.sk-parallel-item::before {content: \"\";position: absolute;border-left: 1px solid gray;box-sizing: border-box;top: 0;bottom: 0;left: 50%;z-index: -1;}#sk-container-id-4 div.sk-parallel-item {display: flex;flex-direction: column;z-index: 1;position: relative;background-color: white;}#sk-container-id-4 div.sk-parallel-item:first-child::after {align-self: flex-end;width: 50%;}#sk-container-id-4 div.sk-parallel-item:last-child::after {align-self: flex-start;width: 50%;}#sk-container-id-4 div.sk-parallel-item:only-child::after {width: 0;}#sk-container-id-4 div.sk-dashed-wrapped {border: 1px dashed gray;margin: 0 0.4em 0.5em 0.4em;box-sizing: border-box;padding-bottom: 0.4em;background-color: white;}#sk-container-id-4 div.sk-label label {font-family: monospace;font-weight: bold;display: inline-block;line-height: 1.2em;}#sk-container-id-4 div.sk-label-container {text-align: center;}#sk-container-id-4 div.sk-container {/* jupyter's `normalize.less` sets `[hidden] { display: none; }` but bootstrap.min.css set `[hidden] { display: none !important; }` so we also need the `!important` here to be able to override the default hidden behavior on the sphinx rendered scikit-learn.org. See: https://github.com/scikit-learn/scikit-learn/issues/21755 */display: inline-block !important;position: relative;}#sk-container-id-4 div.sk-text-repr-fallback {display: none;}</style><div id=\"sk-container-id-4\" class=\"sk-top-container\"><div class=\"sk-text-repr-fallback\"><pre>OneVsRestClassifier(estimator=LinearSVC())</pre><b>In a Jupyter environment, please rerun this cell to show the HTML representation or trust the notebook. <br />On GitHub, the HTML representation is unable to render, please try loading this page with nbviewer.org.</b></div><div class=\"sk-container\" hidden><div class=\"sk-item sk-dashed-wrapped\"><div class=\"sk-label-container\"><div class=\"sk-label sk-toggleable\"><input class=\"sk-toggleable__control sk-hidden--visually\" id=\"sk-estimator-id-10\" type=\"checkbox\" ><label for=\"sk-estimator-id-10\" class=\"sk-toggleable__label sk-toggleable__label-arrow\">OneVsRestClassifier</label><div class=\"sk-toggleable__content\"><pre>OneVsRestClassifier(estimator=LinearSVC())</pre></div></div></div><div class=\"sk-parallel\"><div class=\"sk-parallel-item\"><div class=\"sk-item\"><div class=\"sk-label-container\"><div class=\"sk-label sk-toggleable\"><input class=\"sk-toggleable__control sk-hidden--visually\" id=\"sk-estimator-id-11\" type=\"checkbox\" ><label for=\"sk-estimator-id-11\" class=\"sk-toggleable__label sk-toggleable__label-arrow\">estimator: LinearSVC</label><div class=\"sk-toggleable__content\"><pre>LinearSVC()</pre></div></div></div><div class=\"sk-serial\"><div class=\"sk-item\"><div class=\"sk-estimator sk-toggleable\"><input class=\"sk-toggleable__control sk-hidden--visually\" id=\"sk-estimator-id-12\" type=\"checkbox\" ><label for=\"sk-estimator-id-12\" class=\"sk-toggleable__label sk-toggleable__label-arrow\">LinearSVC</label><div class=\"sk-toggleable__content\"><pre>LinearSVC()</pre></div></div></div></div></div></div></div></div></div></div>"
      ],
      "text/plain": [
       "OneVsRestClassifier(estimator=LinearSVC())"
      ]
     },
     "execution_count": 84,
     "metadata": {},
     "output_type": "execute_result"
    }
   ],
   "source": [
    "# todo configurar parametros\n",
    "\n",
    "model = OneVsRestClassifier(LinearSVC())\n",
    "model.fit(X_train, Y_train)"
   ]
  },
  {
   "attachments": {},
   "cell_type": "markdown",
   "metadata": {},
   "source": [
    "validando"
   ]
  },
  {
   "cell_type": "code",
   "execution_count": 85,
   "metadata": {},
   "outputs": [],
   "source": [
    "predict = model.predict(X_test)"
   ]
  },
  {
   "cell_type": "code",
   "execution_count": 86,
   "metadata": {},
   "outputs": [
    {
     "name": "stderr",
     "output_type": "stream",
     "text": [
      "/home/anasofia/Documents/UnB/PIBIC/classificador-cf/env/lib/python3.8/site-packages/sklearn/metrics/_classification.py:1344: UndefinedMetricWarning: Precision and F-score are ill-defined and being set to 0.0 in labels with no predicted samples. Use `zero_division` parameter to control this behavior.\n",
      "  _warn_prf(average, modifier, msg_start, len(result))\n"
     ]
    },
    {
     "name": "stdout",
     "output_type": "stream",
     "text": [
      "{'implementation': {'precision': 0.451505016722408, 'recall': 0.4251968503937008, 'f1-score': 0.43795620437956206, 'support': 635}, 'math': {'precision': 0.5476190476190477, 'recall': 0.5244299674267101, 'f1-score': 0.5357737104825291, 'support': 614}, 'greedy': {'precision': 0.5095419847328244, 'recall': 0.44798657718120805, 'f1-score': 0.4767857142857143, 'support': 596}, 'dp': {'precision': 0.48314606741573035, 'recall': 0.4387755102040816, 'f1-score': 0.4598930481283422, 'support': 490}, 'datastructures': {'precision': 0.5411764705882353, 'recall': 0.5054945054945055, 'f1-score': 0.5227272727272727, 'support': 364}, 'constructivealgorithms': {'precision': 0.48732394366197185, 'recall': 0.4942857142857143, 'f1-score': 0.4907801418439717, 'support': 350}, 'bruteforce': {'precision': 0.24295774647887325, 'recall': 0.20474777448071216, 'f1-score': 0.22222222222222224, 'support': 337}, 'graphs': {'precision': 0.6633165829145728, 'recall': 0.5258964143426295, 'f1-score': 0.5866666666666667, 'support': 251}, 'binarysearch': {'precision': 0.34591194968553457, 'recall': 0.22916666666666666, 'f1-score': 0.27568922305764404, 'support': 240}, 'sortings': {'precision': 0.3271604938271605, 'recall': 0.27319587628865977, 'f1-score': 0.297752808988764, 'support': 194}, 'dfsandsimilar': {'precision': 0.45962732919254656, 'recall': 0.3008130081300813, 'f1-score': 0.36363636363636365, 'support': 246}, 'trees': {'precision': 0.6625, 'recall': 0.5668449197860963, 'f1-score': 0.6109510086455331, 'support': 187}, 'strings': {'precision': 0.647887323943662, 'recall': 0.5443786982248521, 'f1-score': 0.5916398713826366, 'support': 169}, 'numbertheory': {'precision': 0.5203252032520326, 'recall': 0.3950617283950617, 'f1-score': 0.44912280701754387, 'support': 162}, 'combinatorics': {'precision': 0.5, 'recall': 0.2624113475177305, 'f1-score': 0.3441860465116279, 'support': 141}, '*specialproblem': {'precision': 0.47619047619047616, 'recall': 0.4411764705882353, 'f1-score': 0.4580152671755725, 'support': 136}, 'twopointers': {'precision': 0.2608695652173913, 'recall': 0.12244897959183673, 'f1-score': 0.16666666666666666, 'support': 98}, 'bitmasks': {'precision': 0.5, 'recall': 0.23636363636363636, 'f1-score': 0.32098765432098764, 'support': 110}, 'geometry': {'precision': 0.6623376623376623, 'recall': 0.5483870967741935, 'f1-score': 0.6, 'support': 93}, 'dsu': {'precision': 0.46875, 'recall': 0.19480519480519481, 'f1-score': 0.27522935779816515, 'support': 77}, 'shortestpaths': {'precision': 0.5476190476190477, 'recall': 0.41818181818181815, 'f1-score': 0.4742268041237113, 'support': 55}, 'probabilities': {'precision': 0.6481481481481481, 'recall': 0.5555555555555556, 'f1-score': 0.5982905982905983, 'support': 63}, 'divideandconquer': {'precision': 0.3333333333333333, 'recall': 0.13559322033898305, 'f1-score': 0.19277108433734938, 'support': 59}, 'games': {'precision': 0.65, 'recall': 0.6046511627906976, 'f1-score': 0.6265060240963854, 'support': 43}, 'hashing': {'precision': 0.4375, 'recall': 0.14, 'f1-score': 0.21212121212121213, 'support': 50}, 'interactive': {'precision': 0.9333333333333333, 'recall': 0.7777777777777778, 'f1-score': 0.8484848484848485, 'support': 36}, 'flows': {'precision': 0.5, 'recall': 0.1388888888888889, 'f1-score': 0.2173913043478261, 'support': 36}, 'matrices': {'precision': 0.4166666666666667, 'recall': 0.23809523809523808, 'f1-score': 0.30303030303030304, 'support': 21}, 'stringsuffixstructures': {'precision': 0.875, 'recall': 0.22580645161290322, 'f1-score': 0.358974358974359, 'support': 31}, 'graphmatchings': {'precision': 0.4, 'recall': 0.08695652173913043, 'f1-score': 0.14285714285714285, 'support': 23}, 'fft': {'precision': 0.25, 'recall': 0.07142857142857142, 'f1-score': 0.11111111111111112, 'support': 14}, 'ternarysearch': {'precision': 0.3333333333333333, 'recall': 0.07692307692307693, 'f1-score': 0.125, 'support': 13}, 'meet-in-the-middle': {'precision': 0.75, 'recall': 0.23076923076923078, 'f1-score': 0.3529411764705882, 'support': 13}, 'expressionparsing': {'precision': 0.5, 'recall': 0.07142857142857142, 'f1-score': 0.125, 'support': 14}, '2-sat': {'precision': 1.0, 'recall': 0.4444444444444444, 'f1-score': 0.6153846153846153, 'support': 9}, 'chineseremaindertheorem': {'precision': 0.0, 'recall': 0.0, 'f1-score': 0.0, 'support': 5}, 'outros': {'precision': 0.42718446601941745, 'recall': 0.2972972972972973, 'f1-score': 0.35059760956175295, 'support': 148}, 'micro avg': {'precision': 0.49460862619808305, 'recall': 0.40454025804344274, 'f1-score': 0.44506333662743686, 'support': 6123}, 'macro avg': {'precision': 0.5070341943846868, 'recall': 0.3296125611949646, 'f1-score': 0.38219919592242135, 'support': 6123}, 'weighted avg': {'precision': 0.49060373008289726, 'recall': 0.40454025804344274, 'f1-score': 0.43759396344559454, 'support': 6123}, 'samples avg': {'precision': 0.46809955038081286, 'recall': 0.42763623046283844, 'f1-score': 0.4146131025276051, 'support': 6123}}\n"
     ]
    },
    {
     "name": "stderr",
     "output_type": "stream",
     "text": [
      "/home/anasofia/Documents/UnB/PIBIC/classificador-cf/env/lib/python3.8/site-packages/sklearn/metrics/_classification.py:1344: UndefinedMetricWarning: Precision and F-score are ill-defined and being set to 0.0 in samples with no predicted labels. Use `zero_division` parameter to control this behavior.\n",
      "  _warn_prf(average, modifier, msg_start, len(result))\n"
     ]
    }
   ],
   "source": [
    "scores = classification_report(Y_test, predict, target_names=labels, output_dict=True)\n",
    "print(scores)"
   ]
  },
  {
   "cell_type": "code",
   "execution_count": 89,
   "metadata": {},
   "outputs": [],
   "source": [
    "def plot(scores, labels):\n",
    "    \"\"\"Plot scores of best models in a barplot based on f1 score\"\"\"\n",
    "    \n",
    "    n_labels = len(labels)\n",
    "\n",
    "    aux = pd.DataFrame(index=[labels] ,columns=['precision', 'recall', 'f1-score'], dtype=float)\n",
    "    \n",
    "    for j, i in enumerate(scores):\n",
    "        if j == n_labels: break\n",
    "        scores[i].pop('support', None)\n",
    "        aux.iloc[j] = scores[i]\n",
    "    \n",
    "    # aux.set_index(labels, inplace=True)\n",
    "    print(aux)\n",
    "\n",
    "    aux.sort_values('f1-score', ascending=False).plot(\n",
    "        kind='bar',\n",
    "        figsize=(12,5),\n",
    "        title='Score of Highest Performing Models',\n",
    "        ylabel='score',\n",
    "        colormap='plasma'\n",
    "    )\n",
    "    plt.ylim(bottom=0)\n",
    "    plt.show()"
   ]
  },
  {
   "cell_type": "code",
   "execution_count": 90,
   "metadata": {},
   "outputs": [
    {
     "name": "stdout",
     "output_type": "stream",
     "text": [
      "                         precision    recall  f1-score\n",
      "implementation            0.451505  0.425197  0.437956\n",
      "math                      0.547619  0.524430  0.535774\n",
      "greedy                    0.509542  0.447987  0.476786\n",
      "dp                        0.483146  0.438776  0.459893\n",
      "datastructures            0.541176  0.505495  0.522727\n",
      "constructivealgorithms    0.487324  0.494286  0.490780\n",
      "bruteforce                0.242958  0.204748  0.222222\n",
      "graphs                    0.663317  0.525896  0.586667\n",
      "binarysearch              0.345912  0.229167  0.275689\n",
      "sortings                  0.327160  0.273196  0.297753\n",
      "dfsandsimilar             0.459627  0.300813  0.363636\n",
      "trees                     0.662500  0.566845  0.610951\n",
      "strings                   0.647887  0.544379  0.591640\n",
      "numbertheory              0.520325  0.395062  0.449123\n",
      "combinatorics             0.500000  0.262411  0.344186\n",
      "*specialproblem           0.476190  0.441176  0.458015\n",
      "twopointers               0.260870  0.122449  0.166667\n",
      "bitmasks                  0.500000  0.236364  0.320988\n",
      "geometry                  0.662338  0.548387  0.600000\n",
      "dsu                       0.468750  0.194805  0.275229\n",
      "shortestpaths             0.547619  0.418182  0.474227\n",
      "probabilities             0.648148  0.555556  0.598291\n",
      "divideandconquer          0.333333  0.135593  0.192771\n",
      "games                     0.650000  0.604651  0.626506\n",
      "hashing                   0.437500  0.140000  0.212121\n",
      "interactive               0.933333  0.777778  0.848485\n",
      "flows                     0.500000  0.138889  0.217391\n",
      "matrices                  0.416667  0.238095  0.303030\n",
      "stringsuffixstructures    0.875000  0.225806  0.358974\n",
      "graphmatchings            0.400000  0.086957  0.142857\n",
      "fft                       0.250000  0.071429  0.111111\n",
      "ternarysearch             0.333333  0.076923  0.125000\n",
      "meet-in-the-middle        0.750000  0.230769  0.352941\n",
      "expressionparsing         0.500000  0.071429  0.125000\n",
      "2-sat                     1.000000  0.444444  0.615385\n",
      "chineseremaindertheorem   0.000000  0.000000  0.000000\n",
      "outros                    0.427184  0.297297  0.350598\n"
     ]
    },
    {
     "data": {
      "image/png": "[encoded data removed]",
      "text/plain": [
       "<Figure size 1200x500 with 1 Axes>"
      ]
     },
     "metadata": {},
     "output_type": "display_data"
    }
   ],
   "source": [
    "plot(scores, labels)"
   ]
  },
  {
   "cell_type": "code",
   "execution_count": null,
   "metadata": {},
   "outputs": [],
   "source": []
  },
  {
   "cell_type": "code",
   "execution_count": null,
   "metadata": {},
   "outputs": [],
   "source": []
  }
 ],
 "metadata": {
  "kernelspec": {
   "display_name": "env",
   "language": "python",
   "name": "env"
  },
  "language_info": {
   "codemirror_mode": {
    "name": "ipython",
    "version": 3
   },
   "file_extension": ".py",
   "mimetype": "text/x-python",
   "name": "python",
   "nbconvert_exporter": "python",
   "pygments_lexer": "ipython3",
   "version": "3.8.10"
  },
  "orig_nbformat": 4
 },
 "nbformat": 4,
 "nbformat_minor": 2
}
